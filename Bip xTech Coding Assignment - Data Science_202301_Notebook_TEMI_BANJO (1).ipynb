{
 "cells": [
  {
   "cell_type": "markdown",
   "metadata": {},
   "source": [
    "<h1 align=\"left\"> xTech Coding Assignment | Use Case: Early Loan Closing prediction</h1>"
   ]
  },
  {
   "cell_type": "markdown",
   "metadata": {},
   "source": [
    "This assignment consists of a data science project based on Python, which requires hands-on analysis and modelling. The assignment contains a series of tasks following the standard data science pipeline. Specifically, in this notebook you must explore data related to customer loans before building a classification model to predict if a customer will pay back and close their loan before the contract end date (STATUS = \"EARLY EXPIRED\").\n",
    "\n",
    "You will be evaluated based on your coding ability, the quality of the generated insights, and the ability to justify choices.\n",
    "\n",
    "Sections: <br>\n",
    "[1 The Data](#1) <br>\n",
    "[2 Evaluation](#2) <br>\n",
    "[3 Assignment](#3)<br>\n"
   ]
  },
  {
   "cell_type": "markdown",
   "metadata": {},
   "source": [
    "<a id='1'></a>\n",
    "# 1) The Data"
   ]
  },
  {
   "cell_type": "markdown",
   "metadata": {},
   "source": [
    "\n",
    "### Dataset *use_case_customer_data.csv*\n",
    "9561 rows x 7 columns\n",
    "\n",
    "Variables:\n",
    "- **CUSTOMER_ID**: customer ID\n",
    "\n",
    "- **SEX**: gender of the customer\n",
    "    - M: MAN\n",
    "    - W: WOMAN\n",
    "    \n",
    "- **AGE**: age of the customer\n",
    "\n",
    "- **ANNUAL_INCOME**: annual salary value of the customer\n",
    "\n",
    "- **NUMBER_OF_MONTHS**: number of months the salary is paid\n",
    "\n",
    "- **MARITAL_STATUS**: marital status of the customer\n",
    "    - D: DIVORCED\n",
    "    - G: SINGLE\n",
    "    - C: COHABITANT\n",
    "    - J: CONJUGATE\n",
    "    - S: SEPARATED\n",
    "    - W: WIDOW(ER)\n",
    "    - X: OTHER\n",
    "\n",
    "- **LEASE**: type of customer lease\n",
    "    - P: PROPERTY\n",
    "    - E: AT THE EMPLOYER\n",
    "    - R: RENT\n",
    "    - A: PARENTS/RELATIVES\n",
    "    - T: THIRD PARTIES\n",
    "    - X: OTHER\n"
   ]
  },
  {
   "cell_type": "markdown",
   "metadata": {},
   "source": [
    "### Dataset *use_case_loans_data.csv*\n",
    "37291 rows x 12 variables\n",
    "\n",
    "Variables:\n",
    "- **CUSTOMER_ID**: customer ID\n",
    "\n",
    "- **STATUS**: loan status (target)\n",
    "    - CONCLUDED REGULARLY\n",
    "    - EARLY EXPIRED (phenomenon of interest)\n",
    "\n",
    "- **SECTOR_TYPE**: type of loan\n",
    "    - CL: CAR LOAN\n",
    "    - FL: FINALIZED LOAN\n",
    "    - PL: PERSONAL LOAN\n",
    "\n",
    "- **GOOD_VALUE**: value of the mortgaged property\n",
    "\n",
    "- **ADVANCE_VALUE**: advance paid\n",
    "\n",
    "- **LOAN_VALUE**: value of the loan\n",
    "\n",
    "- **INSTALLMENT_VALUE**: value of the installment\n",
    "\n",
    "- **NUMBER_INSTALLMENT**: number of installments\n",
    "\n",
    "- **GAPR**: Gross Annual Percentage Rate\n",
    "\n",
    "- **NIR**: Nominal Interest Rate \n",
    "\n",
    "- **REFINANCED**: loan subject to refinancing (Y / N)\n",
    "\n",
    "- **FROM_REFINANCE**: loan from a refinancing (Y / N)\n",
    "\n",
    "\n"
   ]
  },
  {
   "cell_type": "markdown",
   "metadata": {},
   "source": [
    "\n",
    "<a id='2'></a>\n",
    "# 2) Evaluation \n",
    "Total points: **100 pts** (100%)\n",
    "\n",
    "<br>\n",
    "\n",
    "**I. Data Preparation: 15 pts (15%)** <br> \n",
    "a) Preparing the dataset: **10 pts**<br>\n",
    "b) Dealing with missing values: **5 pts**<br> \n",
    "\n",
    "**II. Exploratory Data Analysis & Data Visualization: 20 pts (20%)**<br>\n",
    "a) Analyzing Distributions: **10 pts**<br>\n",
    "b) Analyzing Correlation: **10 pts**<br>\n",
    "\n",
    "**III. Feature Engineering: 20 pts (20%)**<br>\n",
    "a) Scaling and Distributing: **5 pts**<br>\n",
    "b) Encoding categorical data: **5 pts**<br>\n",
    "c) Dealing with Unbalanced Dataset: **10 pts**<br>\n",
    "\n",
    "**IV. Modeling: 30 pts (30%)**<br>\n",
    "a) Modeling with Classifiers (try at least 3 different): **20 pts**<br>\n",
    "b) Tuning Parameter: **10 pts**<br>\n",
    "\n",
    "**V. Evaluation: 10 pts (10%)**<br>\n",
    "a) Evaluating with Confusion Matrix: **5 pts**<br>\n",
    "a) Evaluating with other Metrics: **5 pts**<br>\n",
    "\n",
    "\n",
    "**VI. Export Results: 5 pts (5%)**<br>\n",
    "a) Export Model Results (Paramters and Performances): **5 pts**<br>\n"
   ]
  },
  {
   "cell_type": "markdown",
   "metadata": {},
   "source": [
    "### Remember to import all necessary libraries (e.g. python, numpy, matplotlib, etc)"
   ]
  },
  {
   "cell_type": "code",
   "execution_count": 1,
   "metadata": {},
   "outputs": [],
   "source": [
    "#import the required modules\n",
    "import pandas as pd\n",
    "import seaborn as sns\n",
    "import numpy as np\n",
    "import matplotlib.pyplot as plt\n",
    "from sklearn.preprocessing import MinMaxScaler, LabelEncoder, OneHotEncoder\n",
    "from sklearn.model_selection import train_test_split\n",
    "from imblearn.over_sampling import SMOTE\n",
    "from sklearn.feature_selection import SelectKBest, f_classif\n",
    "from sklearn.ensemble import RandomForestClassifier, GradientBoostingClassifier\n",
    "from sklearn.model_selection import RepeatedStratifiedKFold\n",
    "from sklearn.model_selection import cross_val_score\n",
    "from sklearn import metrics\n",
    "from sklearn.neighbors import KNeighborsClassifier\n",
    "from sklearn.tree import DecisionTreeClassifier\n",
    "from sklearn.svm import LinearSVC\n",
    "from sklearn.model_selection import GridSearchCV,RandomizedSearchCV\n",
    "import warnings\n",
    "warnings.filterwarnings(\"ignore\")"
   ]
  },
  {
   "cell_type": "markdown",
   "metadata": {},
   "source": [
    "<a id='3'></a>\n",
    "# 3) Assignment\n",
    "\n",
    "## I. Data Preparation\n",
    "\n",
    "**a) Preparing the dataset**<br>\n",
    "\n",
    "**b) Dealing with missing values**<br>\n",
    "\n"
   ]
  },
  {
   "cell_type": "code",
   "execution_count": 2,
   "metadata": {},
   "outputs": [],
   "source": [
    "#read in the dataset\n",
    "customer_df = pd.read_csv('/Users/oreoluwa/Downloads/BIP xTech Coding Assignment - Data Science_202301/data/use_case_customer_data.csv')\n",
    "loan_df = pd.read_csv('/Users/oreoluwa/Downloads/BIP xTech Coding Assignment - Data Science_202301/data/use_case_loans_data.csv')"
   ]
  },
  {
   "cell_type": "code",
   "execution_count": 3,
   "metadata": {},
   "outputs": [
    {
     "data": {
      "text/html": [
       "<div>\n",
       "<style scoped>\n",
       "    .dataframe tbody tr th:only-of-type {\n",
       "        vertical-align: middle;\n",
       "    }\n",
       "\n",
       "    .dataframe tbody tr th {\n",
       "        vertical-align: top;\n",
       "    }\n",
       "\n",
       "    .dataframe thead th {\n",
       "        text-align: right;\n",
       "    }\n",
       "</style>\n",
       "<table border=\"1\" class=\"dataframe\">\n",
       "  <thead>\n",
       "    <tr style=\"text-align: right;\">\n",
       "      <th></th>\n",
       "      <th>CUSTOMER_ID</th>\n",
       "      <th>SEX</th>\n",
       "      <th>AGE</th>\n",
       "      <th>ANNUAL_INCOME</th>\n",
       "      <th>NUMBER_OF_MONTHS</th>\n",
       "      <th>MARITAL_STATUS</th>\n",
       "      <th>LEASE</th>\n",
       "    </tr>\n",
       "  </thead>\n",
       "  <tbody>\n",
       "    <tr>\n",
       "      <th>0</th>\n",
       "      <td>1088</td>\n",
       "      <td>M</td>\n",
       "      <td>36</td>\n",
       "      <td>25200.00</td>\n",
       "      <td>14</td>\n",
       "      <td>J</td>\n",
       "      <td>P</td>\n",
       "    </tr>\n",
       "    <tr>\n",
       "      <th>1</th>\n",
       "      <td>1097</td>\n",
       "      <td>W</td>\n",
       "      <td>45</td>\n",
       "      <td>26610.78</td>\n",
       "      <td>14</td>\n",
       "      <td>J</td>\n",
       "      <td>P</td>\n",
       "    </tr>\n",
       "    <tr>\n",
       "      <th>2</th>\n",
       "      <td>1102</td>\n",
       "      <td>M</td>\n",
       "      <td>49</td>\n",
       "      <td>24700.00</td>\n",
       "      <td>13</td>\n",
       "      <td>J</td>\n",
       "      <td>P</td>\n",
       "    </tr>\n",
       "    <tr>\n",
       "      <th>3</th>\n",
       "      <td>1104</td>\n",
       "      <td>W</td>\n",
       "      <td>45</td>\n",
       "      <td>15951.00</td>\n",
       "      <td>13</td>\n",
       "      <td>J</td>\n",
       "      <td>P</td>\n",
       "    </tr>\n",
       "    <tr>\n",
       "      <th>4</th>\n",
       "      <td>1106</td>\n",
       "      <td>M</td>\n",
       "      <td>47</td>\n",
       "      <td>28114.45</td>\n",
       "      <td>13</td>\n",
       "      <td>J</td>\n",
       "      <td>P</td>\n",
       "    </tr>\n",
       "  </tbody>\n",
       "</table>\n",
       "</div>"
      ],
      "text/plain": [
       "   CUSTOMER_ID SEX  AGE  ANNUAL_INCOME  NUMBER_OF_MONTHS MARITAL_STATUS LEASE\n",
       "0         1088   M   36       25200.00                14              J     P\n",
       "1         1097   W   45       26610.78                14              J     P\n",
       "2         1102   M   49       24700.00                13              J     P\n",
       "3         1104   W   45       15951.00                13              J     P\n",
       "4         1106   M   47       28114.45                13              J     P"
      ]
     },
     "execution_count": 3,
     "metadata": {},
     "output_type": "execute_result"
    }
   ],
   "source": [
    "customer_df.head()"
   ]
  },
  {
   "cell_type": "code",
   "execution_count": 4,
   "metadata": {},
   "outputs": [
    {
     "data": {
      "text/html": [
       "<div>\n",
       "<style scoped>\n",
       "    .dataframe tbody tr th:only-of-type {\n",
       "        vertical-align: middle;\n",
       "    }\n",
       "\n",
       "    .dataframe tbody tr th {\n",
       "        vertical-align: top;\n",
       "    }\n",
       "\n",
       "    .dataframe thead th {\n",
       "        text-align: right;\n",
       "    }\n",
       "</style>\n",
       "<table border=\"1\" class=\"dataframe\">\n",
       "  <thead>\n",
       "    <tr style=\"text-align: right;\">\n",
       "      <th></th>\n",
       "      <th>CUSTOMER_ID</th>\n",
       "      <th>STATUS</th>\n",
       "      <th>SECTOR_TYPE</th>\n",
       "      <th>GOOD_VALUE</th>\n",
       "      <th>ADVANCE_VALUE</th>\n",
       "      <th>LOAN_VALUE</th>\n",
       "      <th>INSTALLMENT_VALUE</th>\n",
       "      <th>NUMBER_INSTALLMENT</th>\n",
       "      <th>GAPR</th>\n",
       "      <th>NIR</th>\n",
       "      <th>REFINANCED</th>\n",
       "      <th>FROM_REFINANCE</th>\n",
       "    </tr>\n",
       "  </thead>\n",
       "  <tbody>\n",
       "    <tr>\n",
       "      <th>0</th>\n",
       "      <td>1088</td>\n",
       "      <td>CONCLUDED REGULARLY</td>\n",
       "      <td>FL</td>\n",
       "      <td>469.00</td>\n",
       "      <td>69.0</td>\n",
       "      <td>400.00</td>\n",
       "      <td>44.45</td>\n",
       "      <td>10</td>\n",
       "      <td>21.74882</td>\n",
       "      <td>19.84123</td>\n",
       "      <td>N</td>\n",
       "      <td>N</td>\n",
       "    </tr>\n",
       "    <tr>\n",
       "      <th>1</th>\n",
       "      <td>1088</td>\n",
       "      <td>CONCLUDED REGULARLY</td>\n",
       "      <td>FL</td>\n",
       "      <td>794.30</td>\n",
       "      <td>0.0</td>\n",
       "      <td>794.30</td>\n",
       "      <td>70.00</td>\n",
       "      <td>12</td>\n",
       "      <td>9.42200</td>\n",
       "      <td>9.03804</td>\n",
       "      <td>N</td>\n",
       "      <td>N</td>\n",
       "    </tr>\n",
       "    <tr>\n",
       "      <th>2</th>\n",
       "      <td>1097</td>\n",
       "      <td>CONCLUDED REGULARLY</td>\n",
       "      <td>FL</td>\n",
       "      <td>399.00</td>\n",
       "      <td>0.0</td>\n",
       "      <td>419.00</td>\n",
       "      <td>69.85</td>\n",
       "      <td>6</td>\n",
       "      <td>8.19200</td>\n",
       "      <td>0.03800</td>\n",
       "      <td>N</td>\n",
       "      <td>N</td>\n",
       "    </tr>\n",
       "    <tr>\n",
       "      <th>3</th>\n",
       "      <td>1097</td>\n",
       "      <td>CONCLUDED REGULARLY</td>\n",
       "      <td>FL</td>\n",
       "      <td>1039.98</td>\n",
       "      <td>0.0</td>\n",
       "      <td>1039.98</td>\n",
       "      <td>52.00</td>\n",
       "      <td>20</td>\n",
       "      <td>0.00220</td>\n",
       "      <td>0.00220</td>\n",
       "      <td>N</td>\n",
       "      <td>N</td>\n",
       "    </tr>\n",
       "    <tr>\n",
       "      <th>4</th>\n",
       "      <td>1097</td>\n",
       "      <td>EARLY EXPIRED</td>\n",
       "      <td>CL</td>\n",
       "      <td>23500.00</td>\n",
       "      <td>3500.0</td>\n",
       "      <td>21387.86</td>\n",
       "      <td>310.00</td>\n",
       "      <td>84</td>\n",
       "      <td>6.72602</td>\n",
       "      <td>5.76090</td>\n",
       "      <td>Y</td>\n",
       "      <td>N</td>\n",
       "    </tr>\n",
       "  </tbody>\n",
       "</table>\n",
       "</div>"
      ],
      "text/plain": [
       "   CUSTOMER_ID               STATUS SECTOR_TYPE  GOOD_VALUE  ADVANCE_VALUE  \\\n",
       "0         1088  CONCLUDED REGULARLY          FL      469.00           69.0   \n",
       "1         1088  CONCLUDED REGULARLY          FL      794.30            0.0   \n",
       "2         1097  CONCLUDED REGULARLY          FL      399.00            0.0   \n",
       "3         1097  CONCLUDED REGULARLY          FL     1039.98            0.0   \n",
       "4         1097        EARLY EXPIRED          CL    23500.00         3500.0   \n",
       "\n",
       "   LOAN_VALUE  INSTALLMENT_VALUE  NUMBER_INSTALLMENT      GAPR       NIR  \\\n",
       "0      400.00              44.45                  10  21.74882  19.84123   \n",
       "1      794.30              70.00                  12   9.42200   9.03804   \n",
       "2      419.00              69.85                   6   8.19200   0.03800   \n",
       "3     1039.98              52.00                  20   0.00220   0.00220   \n",
       "4    21387.86             310.00                  84   6.72602   5.76090   \n",
       "\n",
       "  REFINANCED FROM_REFINANCE  \n",
       "0          N              N  \n",
       "1          N              N  \n",
       "2          N              N  \n",
       "3          N              N  \n",
       "4          Y              N  "
      ]
     },
     "execution_count": 4,
     "metadata": {},
     "output_type": "execute_result"
    }
   ],
   "source": [
    "loan_df.head()"
   ]
  },
  {
   "cell_type": "code",
   "execution_count": 5,
   "metadata": {},
   "outputs": [],
   "source": [
    "#carry out a left join on the two dataframes to produce one extensive dataframe. Join is performed on the common column 'customer id'\n",
    "total_data = pd.merge(loan_df, customer_df, how=\"left\", on=[\"CUSTOMER_ID\"])"
   ]
  },
  {
   "cell_type": "code",
   "execution_count": 6,
   "metadata": {},
   "outputs": [
    {
     "data": {
      "text/plain": [
       "(37291, 18)"
      ]
     },
     "execution_count": 6,
     "metadata": {},
     "output_type": "execute_result"
    }
   ],
   "source": [
    "#confirm that the rows in the new dataframe is as expected\n",
    "total_data.shape"
   ]
  },
  {
   "cell_type": "markdown",
   "metadata": {},
   "source": [
    "### Dealing with Missing data"
   ]
  },
  {
   "cell_type": "code",
   "execution_count": 7,
   "metadata": {},
   "outputs": [
    {
     "data": {
      "text/plain": [
       "CUSTOMER_ID            0\n",
       "STATUS                 0\n",
       "SECTOR_TYPE            0\n",
       "GOOD_VALUE             0\n",
       "ADVANCE_VALUE          0\n",
       "LOAN_VALUE             0\n",
       "INSTALLMENT_VALUE      0\n",
       "NUMBER_INSTALLMENT     0\n",
       "GAPR                   0\n",
       "NIR                    0\n",
       "REFINANCED             0\n",
       "FROM_REFINANCE         0\n",
       "SEX                    0\n",
       "AGE                    0\n",
       "ANNUAL_INCOME          0\n",
       "NUMBER_OF_MONTHS       0\n",
       "MARITAL_STATUS        72\n",
       "LEASE                  8\n",
       "dtype: int64"
      ]
     },
     "execution_count": 7,
     "metadata": {},
     "output_type": "execute_result"
    }
   ],
   "source": [
    "#examine how many columns contain missing data in the dataset\n",
    "total_data.isnull().sum()"
   ]
  },
  {
   "cell_type": "code",
   "execution_count": 8,
   "metadata": {},
   "outputs": [],
   "source": [
    "# correct the missing data in the categorical field marital status by inputting the mode in the missing cells\n",
    "\n",
    "marital_status_mode = total_data['MARITAL_STATUS'].mode()[0]\n",
    "total_data['MARITAL_STATUS'] = total_data['MARITAL_STATUS'].fillna(marital_status_mode)"
   ]
  },
  {
   "cell_type": "code",
   "execution_count": 9,
   "metadata": {},
   "outputs": [],
   "source": [
    "# correct the missing data in the categorical field lease by inputting the mode in the missing cells\n",
    "\n",
    "lease_mode = total_data['LEASE'].mode()[0]\n",
    "total_data['LEASE'] = total_data['LEASE'].fillna(lease_mode)"
   ]
  },
  {
   "cell_type": "code",
   "execution_count": 10,
   "metadata": {},
   "outputs": [
    {
     "data": {
      "text/plain": [
       "CUSTOMER_ID           0\n",
       "STATUS                0\n",
       "SECTOR_TYPE           0\n",
       "GOOD_VALUE            0\n",
       "ADVANCE_VALUE         0\n",
       "LOAN_VALUE            0\n",
       "INSTALLMENT_VALUE     0\n",
       "NUMBER_INSTALLMENT    0\n",
       "GAPR                  0\n",
       "NIR                   0\n",
       "REFINANCED            0\n",
       "FROM_REFINANCE        0\n",
       "SEX                   0\n",
       "AGE                   0\n",
       "ANNUAL_INCOME         0\n",
       "NUMBER_OF_MONTHS      0\n",
       "MARITAL_STATUS        0\n",
       "LEASE                 0\n",
       "dtype: int64"
      ]
     },
     "execution_count": 10,
     "metadata": {},
     "output_type": "execute_result"
    }
   ],
   "source": [
    "#examine the dataset after correcting missing data\n",
    "\n",
    "total_data.isnull().sum()"
   ]
  },
  {
   "cell_type": "markdown",
   "metadata": {},
   "source": [
    "## II. Exploratory Data Analysis & Data Visualization\n",
    "\n",
    "**a) Analyzing Distributions**<br>\n",
    "*hint: use histograms or the function `distplot` of the library `seaborn`*\n",
    "\n",
    "**b) Analyzing Correlation**<br>\n",
    "*hint: calculate the correlation matrix and then visualize it with the `heatmap` of the library `seaborn`*<br>\n",
    "\n"
   ]
  },
  {
   "cell_type": "code",
   "execution_count": 11,
   "metadata": {
    "scrolled": true
   },
   "outputs": [
    {
     "data": {
      "text/plain": [
       "<AxesSubplot:xlabel='LEASE', ylabel='LOAN_VALUE'>"
      ]
     },
     "execution_count": 11,
     "metadata": {},
     "output_type": "execute_result"
    },
    {
     "data": {
      "image/png": "[encoded data removed]",
      "text/plain": [
       "<Figure size 432x288 with 1 Axes>"
      ]
     },
     "metadata": {
      "needs_background": "light"
     },
     "output_type": "display_data"
    }
   ],
   "source": [
    "#explore the relationship between lease, loan value and status using a boxplot\n",
    "\n",
    "sns.boxplot(x = total_data['LEASE'],\n",
    "            y = total_data['LOAN_VALUE'],\n",
    "            hue = total_data['STATUS'],\n",
    "            palette = 'Set2')"
   ]
  },
  {
   "cell_type": "code",
   "execution_count": 12,
   "metadata": {},
   "outputs": [
    {
     "data": {
      "text/plain": [
       "<AxesSubplot:xlabel='REFINANCED', ylabel='LOAN_VALUE'>"
      ]
     },
     "execution_count": 12,
     "metadata": {},
     "output_type": "execute_result"
    },
    {
     "data": {
      "image/png": "[encoded data removed]",
      "text/plain": [
       "<Figure size 432x288 with 1 Axes>"
      ]
     },
     "metadata": {
      "needs_background": "light"
     },
     "output_type": "display_data"
    }
   ],
   "source": [
    "#explore the relationship between refinance, loan value and status using a boxplot\n",
    "\n",
    "sns.boxplot(x = total_data['REFINANCED'],\n",
    "            y = total_data['LOAN_VALUE'],\n",
    "            hue = total_data['STATUS'],\n",
    "            palette = 'Set2')"
   ]
  },
  {
   "cell_type": "code",
   "execution_count": 13,
   "metadata": {},
   "outputs": [
    {
     "data": {
      "text/plain": [
       "<AxesSubplot:xlabel='SECTOR_TYPE', ylabel='LOAN_VALUE'>"
      ]
     },
     "execution_count": 13,
     "metadata": {},
     "output_type": "execute_result"
    },
    {
     "data": {
      "image/png": "[encoded data removed]",
      "text/plain": [
       "<Figure size 432x288 with 1 Axes>"
      ]
     },
     "metadata": {
      "needs_background": "light"
     },
     "output_type": "display_data"
    }
   ],
   "source": [
    "#explore the relationship between refinance, loan value and status using a boxplot\n",
    "\n",
    "sns.boxplot(x = total_data['SECTOR_TYPE'],\n",
    "            y = total_data['LOAN_VALUE'],\n",
    "            hue = total_data['STATUS'],\n",
    "            palette = 'Set2')"
   ]
  },
  {
   "cell_type": "code",
   "execution_count": 14,
   "metadata": {},
   "outputs": [],
   "source": [
    "##sns.countplot(total_data, x='SECTOR_TYPE')"
   ]
  },
  {
   "cell_type": "markdown",
   "metadata": {},
   "source": [
    "### Analyze Distributions of the variables"
   ]
  },
  {
   "cell_type": "code",
   "execution_count": 15,
   "metadata": {},
   "outputs": [],
   "source": [
    "#create a function for producing histograms\n",
    "\n",
    "def create_histograms(df):\n",
    "    for i in df.columns:\n",
    "        if df[str(i)].dtypes == 'int64' or df[str(i)].dtypes == 'float64':\n",
    "            sns.histplot(df[str(i)],kde = False)\n",
    "            plt.show()"
   ]
  },
  {
   "cell_type": "code",
   "execution_count": 16,
   "metadata": {
    "scrolled": false
   },
   "outputs": [
    {
     "data": {
      "image/png": "[encoded data removed]",
      "text/plain": [
       "<Figure size 432x288 with 1 Axes>"
      ]
     },
     "metadata": {
      "needs_background": "light"
     },
     "output_type": "display_data"
    },
    {
     "data": {
      "image/png": "[encoded data removed]",
      "text/plain": [
       "<Figure size 432x288 with 1 Axes>"
      ]
     },
     "metadata": {
      "needs_background": "light"
     },
     "output_type": "display_data"
    },
    {
     "data": {
      "image/png": "[encoded data removed]",
      "text/plain": [
       "<Figure size 432x288 with 1 Axes>"
      ]
     },
     "metadata": {
      "needs_background": "light"
     },
     "output_type": "display_data"
    },
    {
     "data": {
      "image/png": "[encoded data removed]",
      "text/plain": [
       "<Figure size 432x288 with 1 Axes>"
      ]
     },
     "metadata": {
      "needs_background": "light"
     },
     "output_type": "display_data"
    },
    {
     "data": {
      "image/png": "[encoded data removed]",
      "text/plain": [
       "<Figure size 432x288 with 1 Axes>"
      ]
     },
     "metadata": {
      "needs_background": "light"
     },
     "output_type": "display_data"
    },
    {
     "data": {
      "image/png": "[encoded data removed]",
      "text/plain": [
       "<Figure size 432x288 with 1 Axes>"
      ]
     },
     "metadata": {
      "needs_background": "light"
     },
     "output_type": "display_data"
    },
    {
     "data": {
      "image/png": "[encoded data removed]",
      "text/plain": [
       "<Figure size 432x288 with 1 Axes>"
      ]
     },
     "metadata": {
      "needs_background": "light"
     },
     "output_type": "display_data"
    },
    {
     "data": {
      "image/png": "[encoded data removed]",
      "text/plain": [
       "<Figure size 432x288 with 1 Axes>"
      ]
     },
     "metadata": {
      "needs_background": "light"
     },
     "output_type": "display_data"
    },
    {
     "data": {
      "image/png": "[encoded data removed]",
      "text/plain": [
       "<Figure size 432x288 with 1 Axes>"
      ]
     },
     "metadata": {
      "needs_background": "light"
     },
     "output_type": "display_data"
    },
    {
     "data": {
      "image/png": "[encoded data removed]",
      "text/plain": [
       "<Figure size 432x288 with 1 Axes>"
      ]
     },
     "metadata": {
      "needs_background": "light"
     },
     "output_type": "display_data"
    },
    {
     "data": {
      "image/png": "[encoded data removed]",
      "text/plain": [
       "<Figure size 432x288 with 1 Axes>"
      ]
     },
     "metadata": {
      "needs_background": "light"
     },
     "output_type": "display_data"
    }
   ],
   "source": [
    "create_histograms(total_data)"
   ]
  },
  {
   "cell_type": "markdown",
   "metadata": {},
   "source": [
    "### Analyze Correlations amongst the variables"
   ]
  },
  {
   "cell_type": "code",
   "execution_count": 17,
   "metadata": {},
   "outputs": [
    {
     "data": {
      "text/plain": [
       "<AxesSubplot:>"
      ]
     },
     "execution_count": 17,
     "metadata": {},
     "output_type": "execute_result"
    },
    {
     "data": {
      "image/png": "[encoded data removed]",
      "text/plain": [
       "<Figure size 720x720 with 2 Axes>"
      ]
     },
     "metadata": {
      "needs_background": "light"
     },
     "output_type": "display_data"
    }
   ],
   "source": [
    "#check for correlation among the variables using a heatmap\n",
    "\n",
    "plt.figure(figsize = (10,10))\n",
    "sns.set(font_scale=0.6)\n",
    "sns.heatmap(total_data.corr(), annot = True)\n"
   ]
  },
  {
   "cell_type": "markdown",
   "metadata": {},
   "source": [
    "### Dealing with Outliers"
   ]
  },
  {
   "cell_type": "code",
   "execution_count": 18,
   "metadata": {},
   "outputs": [
    {
     "name": "stdout",
     "output_type": "stream",
     "text": [
      "Boxplot for CUSTOMER_ID\n"
     ]
    },
    {
     "data": {
      "image/png": "[encoded data removed]",
      "text/plain": [
       "<Figure size 432x288 with 1 Axes>"
      ]
     },
     "metadata": {},
     "output_type": "display_data"
    },
    {
     "name": "stdout",
     "output_type": "stream",
     "text": [
      "Boxplot for GOOD_VALUE\n"
     ]
    },
    {
     "data": {
      "image/png": "[encoded data removed]",
      "text/plain": [
       "<Figure size 432x288 with 1 Axes>"
      ]
     },
     "metadata": {},
     "output_type": "display_data"
    },
    {
     "name": "stdout",
     "output_type": "stream",
     "text": [
      "Boxplot for ADVANCE_VALUE\n"
     ]
    },
    {
     "data": {
      "image/png": "[encoded data removed]",
      "text/plain": [
       "<Figure size 432x288 with 1 Axes>"
      ]
     },
     "metadata": {},
     "output_type": "display_data"
    },
    {
     "name": "stdout",
     "output_type": "stream",
     "text": [
      "Boxplot for LOAN_VALUE\n"
     ]
    },
    {
     "data": {
      "image/png": "[encoded data removed]",
      "text/plain": [
       "<Figure size 432x288 with 1 Axes>"
      ]
     },
     "metadata": {},
     "output_type": "display_data"
    },
    {
     "name": "stdout",
     "output_type": "stream",
     "text": [
      "Boxplot for INSTALLMENT_VALUE\n"
     ]
    },
    {
     "data": {
      "image/png": "[encoded data removed]",
      "text/plain": [
       "<Figure size 432x288 with 1 Axes>"
      ]
     },
     "metadata": {},
     "output_type": "display_data"
    },
    {
     "name": "stdout",
     "output_type": "stream",
     "text": [
      "Boxplot for NUMBER_INSTALLMENT\n"
     ]
    },
    {
     "data": {
      "image/png": "[encoded data removed]",
      "text/plain": [
       "<Figure size 432x288 with 1 Axes>"
      ]
     },
     "metadata": {},
     "output_type": "display_data"
    },
    {
     "name": "stdout",
     "output_type": "stream",
     "text": [
      "Boxplot for GAPR\n"
     ]
    },
    {
     "data": {
      "image/png": "[encoded data removed]",
      "text/plain": [
       "<Figure size 432x288 with 1 Axes>"
      ]
     },
     "metadata": {},
     "output_type": "display_data"
    },
    {
     "name": "stdout",
     "output_type": "stream",
     "text": [
      "Boxplot for NIR\n"
     ]
    },
    {
     "data": {
      "image/png": "[encoded data removed]",
      "text/plain": [
       "<Figure size 432x288 with 1 Axes>"
      ]
     },
     "metadata": {},
     "output_type": "display_data"
    },
    {
     "name": "stdout",
     "output_type": "stream",
     "text": [
      "Boxplot for AGE\n"
     ]
    },
    {
     "data": {
      "image/png": "[encoded data removed]",
      "text/plain": [
       "<Figure size 432x288 with 1 Axes>"
      ]
     },
     "metadata": {},
     "output_type": "display_data"
    },
    {
     "name": "stdout",
     "output_type": "stream",
     "text": [
      "Boxplot for ANNUAL_INCOME\n"
     ]
    },
    {
     "data": {
      "image/png": "[encoded data removed]",
      "text/plain": [
       "<Figure size 432x288 with 1 Axes>"
      ]
     },
     "metadata": {},
     "output_type": "display_data"
    },
    {
     "name": "stdout",
     "output_type": "stream",
     "text": [
      "Boxplot for NUMBER_OF_MONTHS\n"
     ]
    },
    {
     "data": {
      "image/png": "[encoded data removed]",
      "text/plain": [
       "<Figure size 432x288 with 1 Axes>"
      ]
     },
     "metadata": {},
     "output_type": "display_data"
    }
   ],
   "source": [
    "for i in total_data.columns:\n",
    "    if (((total_data[i].dtype)=='float64') | ((total_data[i].dtype)=='int64')):\n",
    "        print(\"Boxplot for \" + i)\n",
    "        plt.boxplot(total_data[i])\n",
    "        plt.show()"
   ]
  },
  {
   "cell_type": "code",
   "execution_count": 19,
   "metadata": {},
   "outputs": [],
   "source": [
    "def cap_data(FS_df):\n",
    "    for col in FS_df.columns:\n",
    "        if (((FS_df[col].dtype)=='float64') | ((FS_df[col].dtype)=='int64')):\n",
    "            print(\"capping the \",col)\n",
    "            percentiles = FS_df[col].quantile([0.25,0.75]).values\n",
    "            FS_df[col][FS_df[col] <= percentiles[0]] = percentiles[0]\n",
    "            FS_df[col][FS_df[col] >= percentiles[1]] = percentiles[1]\n",
    "        else:\n",
    "            FS_df[col]=FS_df[col]\n",
    "    return FS_df"
   ]
  },
  {
   "cell_type": "code",
   "execution_count": 20,
   "metadata": {},
   "outputs": [
    {
     "name": "stdout",
     "output_type": "stream",
     "text": [
      "capping the  CUSTOMER_ID\n",
      "capping the  GOOD_VALUE\n",
      "capping the  ADVANCE_VALUE\n",
      "capping the  LOAN_VALUE\n",
      "capping the  INSTALLMENT_VALUE\n",
      "capping the  NUMBER_INSTALLMENT\n",
      "capping the  GAPR\n",
      "capping the  NIR\n",
      "capping the  AGE\n",
      "capping the  ANNUAL_INCOME\n",
      "capping the  NUMBER_OF_MONTHS\n"
     ]
    }
   ],
   "source": [
    "total_data = cap_data(total_data)"
   ]
  },
  {
   "cell_type": "code",
   "execution_count": 21,
   "metadata": {},
   "outputs": [
    {
     "name": "stdout",
     "output_type": "stream",
     "text": [
      "Boxplot for CUSTOMER_ID\n"
     ]
    },
    {
     "data": {
      "image/png": "[encoded data removed]",
      "text/plain": [
       "<Figure size 432x288 with 1 Axes>"
      ]
     },
     "metadata": {},
     "output_type": "display_data"
    },
    {
     "name": "stdout",
     "output_type": "stream",
     "text": [
      "Boxplot for GOOD_VALUE\n"
     ]
    },
    {
     "data": {
      "image/png": "[encoded data removed]",
      "text/plain": [
       "<Figure size 432x288 with 1 Axes>"
      ]
     },
     "metadata": {},
     "output_type": "display_data"
    },
    {
     "name": "stdout",
     "output_type": "stream",
     "text": [
      "Boxplot for ADVANCE_VALUE\n"
     ]
    },
    {
     "data": {
      "image/png": "[encoded data removed]",
      "text/plain": [
       "<Figure size 432x288 with 1 Axes>"
      ]
     },
     "metadata": {},
     "output_type": "display_data"
    },
    {
     "name": "stdout",
     "output_type": "stream",
     "text": [
      "Boxplot for LOAN_VALUE\n"
     ]
    },
    {
     "data": {
      "image/png": "[encoded data removed]",
      "text/plain": [
       "<Figure size 432x288 with 1 Axes>"
      ]
     },
     "metadata": {},
     "output_type": "display_data"
    },
    {
     "name": "stdout",
     "output_type": "stream",
     "text": [
      "Boxplot for INSTALLMENT_VALUE\n"
     ]
    },
    {
     "data": {
      "image/png": "[encoded data removed]",
      "text/plain": [
       "<Figure size 432x288 with 1 Axes>"
      ]
     },
     "metadata": {},
     "output_type": "display_data"
    },
    {
     "name": "stdout",
     "output_type": "stream",
     "text": [
      "Boxplot for NUMBER_INSTALLMENT\n"
     ]
    },
    {
     "data": {
      "image/png": "[encoded data removed]",
      "text/plain": [
       "<Figure size 432x288 with 1 Axes>"
      ]
     },
     "metadata": {},
     "output_type": "display_data"
    },
    {
     "name": "stdout",
     "output_type": "stream",
     "text": [
      "Boxplot for GAPR\n"
     ]
    },
    {
     "data": {
      "image/png": "[encoded data removed]",
      "text/plain": [
       "<Figure size 432x288 with 1 Axes>"
      ]
     },
     "metadata": {},
     "output_type": "display_data"
    },
    {
     "name": "stdout",
     "output_type": "stream",
     "text": [
      "Boxplot for NIR\n"
     ]
    },
    {
     "data": {
      "image/png": "[encoded data removed]",
      "text/plain": [
       "<Figure size 432x288 with 1 Axes>"
      ]
     },
     "metadata": {},
     "output_type": "display_data"
    },
    {
     "name": "stdout",
     "output_type": "stream",
     "text": [
      "Boxplot for AGE\n"
     ]
    },
    {
     "data": {
      "image/png": "[encoded data removed]",
      "text/plain": [
       "<Figure size 432x288 with 1 Axes>"
      ]
     },
     "metadata": {},
     "output_type": "display_data"
    },
    {
     "name": "stdout",
     "output_type": "stream",
     "text": [
      "Boxplot for ANNUAL_INCOME\n"
     ]
    },
    {
     "data": {
      "image/png": "[encoded data removed]",
      "text/plain": [
       "<Figure size 432x288 with 1 Axes>"
      ]
     },
     "metadata": {},
     "output_type": "display_data"
    },
    {
     "name": "stdout",
     "output_type": "stream",
     "text": [
      "Boxplot for NUMBER_OF_MONTHS\n"
     ]
    },
    {
     "data": {
      "image/png": "[encoded data removed]",
      "text/plain": [
       "<Figure size 432x288 with 1 Axes>"
      ]
     },
     "metadata": {},
     "output_type": "display_data"
    }
   ],
   "source": [
    "for i in total_data.columns:\n",
    "    if (((total_data[i].dtype)=='float64') | ((total_data[i].dtype)=='int64')):\n",
    "        print(\"Boxplot for \" + i)\n",
    "        plt.boxplot(total_data[i])\n",
    "        plt.show()"
   ]
  },
  {
   "cell_type": "markdown",
   "metadata": {},
   "source": [
    "### Target Variable Exploratory Analysis"
   ]
  },
  {
   "cell_type": "code",
   "execution_count": 22,
   "metadata": {},
   "outputs": [
    {
     "data": {
      "text/plain": [
       "CONCLUDED REGULARLY    30037\n",
       "EARLY EXPIRED           7254\n",
       "Name: STATUS, dtype: int64"
      ]
     },
     "execution_count": 22,
     "metadata": {},
     "output_type": "execute_result"
    }
   ],
   "source": [
    "#target class distribution\n",
    "total_data['STATUS'].value_counts()"
   ]
  },
  {
   "cell_type": "code",
   "execution_count": 23,
   "metadata": {},
   "outputs": [
    {
     "data": {
      "text/plain": [
       "<AxesSubplot:xlabel='STATUS', ylabel='count'>"
      ]
     },
     "execution_count": 23,
     "metadata": {},
     "output_type": "execute_result"
    },
    {
     "data": {
      "image/png": "[encoded data removed]",
      "text/plain": [
       "<Figure size 432x288 with 1 Axes>"
      ]
     },
     "metadata": {},
     "output_type": "display_data"
    }
   ],
   "source": [
    "sns.countplot(data = total_data, x = 'STATUS' )"
   ]
  },
  {
   "cell_type": "markdown",
   "metadata": {},
   "source": [
    "### Train-Test Split"
   ]
  },
  {
   "cell_type": "code",
   "execution_count": 24,
   "metadata": {},
   "outputs": [],
   "source": [
    "x = total_data.drop(\"STATUS\", axis = 1)\n",
    "y = total_data[\"STATUS\"]"
   ]
  },
  {
   "cell_type": "code",
   "execution_count": 25,
   "metadata": {},
   "outputs": [],
   "source": [
    "# label_encoder to encode the categorical label into numerical figures\n",
    "label_encoder = LabelEncoder()\n",
    "  \n",
    "# Encode labels in column 'status'.\n",
    "y= label_encoder.fit_transform(y)"
   ]
  },
  {
   "cell_type": "code",
   "execution_count": 26,
   "metadata": {},
   "outputs": [],
   "source": [
    "#split data into a 70:30 split\n",
    "x_train, x_test, y_train, y_test = train_test_split(x, y, test_size=0.30, random_state=30, stratify = y)"
   ]
  },
  {
   "cell_type": "markdown",
   "metadata": {},
   "source": [
    "## III. Feature Engineering\n",
    "\n",
    "**a) Scaling numerical data**<br>\n",
    "\n",
    "**b) Encoding categorical data**<br>\n",
    "\n",
    "**c) Dealing with Unbalanced Dataset**<br>\n"
   ]
  },
  {
   "cell_type": "markdown",
   "metadata": {},
   "source": [
    "### Encoding categorical variables"
   ]
  },
  {
   "cell_type": "code",
   "execution_count": 27,
   "metadata": {},
   "outputs": [
    {
     "data": {
      "text/plain": [
       "CUSTOMER_ID             int64\n",
       "SECTOR_TYPE            object\n",
       "GOOD_VALUE            float64\n",
       "ADVANCE_VALUE         float64\n",
       "LOAN_VALUE            float64\n",
       "INSTALLMENT_VALUE     float64\n",
       "NUMBER_INSTALLMENT      int64\n",
       "GAPR                  float64\n",
       "NIR                   float64\n",
       "REFINANCED             object\n",
       "FROM_REFINANCE         object\n",
       "SEX                    object\n",
       "AGE                     int64\n",
       "ANNUAL_INCOME         float64\n",
       "NUMBER_OF_MONTHS        int64\n",
       "MARITAL_STATUS         object\n",
       "LEASE                  object\n",
       "dtype: object"
      ]
     },
     "execution_count": 27,
     "metadata": {},
     "output_type": "execute_result"
    }
   ],
   "source": [
    "#check the data types of the columns in the training dataset\n",
    "x_train.dtypes"
   ]
  },
  {
   "cell_type": "code",
   "execution_count": 28,
   "metadata": {},
   "outputs": [],
   "source": [
    "#encode \n",
    "x_train = pd.get_dummies(x_train[['SECTOR_TYPE','REFINANCED', 'FROM_REFINANCE','SEX',\n",
    "                                                'MARITAL_STATUS','LEASE']])\n"
   ]
  },
  {
   "cell_type": "markdown",
   "metadata": {},
   "source": [
    "### Feature selection"
   ]
  },
  {
   "cell_type": "code",
   "execution_count": 29,
   "metadata": {},
   "outputs": [
    {
     "name": "stdout",
     "output_type": "stream",
     "text": [
      "          Feat_names      F_Scores\n",
      "4       REFINANCED_Y  27638.949219\n",
      "3       REFINANCED_N  27638.871094\n",
      "2     SECTOR_TYPE_PL  17780.878906\n",
      "1     SECTOR_TYPE_FL  14186.689453\n",
      "5   FROM_REFINANCE_N   7120.982910\n",
      "6   FROM_REFINANCE_Y   7120.979004\n",
      "0     SECTOR_TYPE_CL     93.343246\n",
      "13  MARITAL_STATUS_W     75.055351\n",
      "11  MARITAL_STATUS_J     68.616287\n",
      "16           LEASE_P     68.154198\n",
      "15           LEASE_A     42.444130\n",
      "10  MARITAL_STATUS_D     37.583687\n",
      "17           LEASE_R     23.935904\n",
      "8              SEX_W      7.699080\n",
      "7              SEX_M      7.693211\n",
      "12  MARITAL_STATUS_S      6.103556\n",
      "9   MARITAL_STATUS_C      1.783235\n",
      "14  MARITAL_STATUS_X      1.354809\n",
      "18           LEASE_T      0.634704\n",
      "19           LEASE_X      0.441736\n"
     ]
    }
   ],
   "source": [
    "\n",
    "#Suppose, we select   features with all anova scores\n",
    "selector = SelectKBest(score_func=f_classif, k=20)\n",
    "#New dataframe with the selected features for later use in the classifier. fit() method works too, if you want only the feature names and their corresponding scores\n",
    "x_new = selector.fit(x_train, y_train)\n",
    "names = x_train.columns.values[selector.get_support()]\n",
    "scores = selector.scores_[selector.get_support()]\n",
    "names_scores = list(zip(names, scores))\n",
    "ns_df = pd.DataFrame(data = names_scores, columns=['Feat_names', 'F_Scores'])\n",
    "#Sort the dataframe for better visualization\n",
    "ns_df_sorted = ns_df.sort_values(['F_Scores', 'Feat_names'], ascending = [False, True])\n",
    "print(ns_df_sorted)\n"
   ]
  },
  {
   "cell_type": "code",
   "execution_count": 30,
   "metadata": {},
   "outputs": [
    {
     "data": {
      "text/plain": [
       "<AxesSubplot:xlabel='F_Scores', ylabel='Feat_names'>"
      ]
     },
     "execution_count": 30,
     "metadata": {},
     "output_type": "execute_result"
    },
    {
     "data": {
      "image/png": "[encoded data removed]",
      "text/plain": [
       "<Figure size 432x288 with 1 Axes>"
      ]
     },
     "metadata": {},
     "output_type": "display_data"
    }
   ],
   "source": [
    "sns.barplot(data = ns_df_sorted.nlargest(20, 'F_Scores'), y= 'Feat_names', x = 'F_Scores' )"
   ]
  },
  {
   "cell_type": "code",
   "execution_count": 31,
   "metadata": {},
   "outputs": [
    {
     "data": {
      "text/html": [
       "<div>\n",
       "<style scoped>\n",
       "    .dataframe tbody tr th:only-of-type {\n",
       "        vertical-align: middle;\n",
       "    }\n",
       "\n",
       "    .dataframe tbody tr th {\n",
       "        vertical-align: top;\n",
       "    }\n",
       "\n",
       "    .dataframe thead th {\n",
       "        text-align: right;\n",
       "    }\n",
       "</style>\n",
       "<table border=\"1\" class=\"dataframe\">\n",
       "  <thead>\n",
       "    <tr style=\"text-align: right;\">\n",
       "      <th></th>\n",
       "      <th>SECTOR_TYPE_CL</th>\n",
       "      <th>SECTOR_TYPE_FL</th>\n",
       "      <th>SECTOR_TYPE_PL</th>\n",
       "      <th>REFINANCED_N</th>\n",
       "      <th>REFINANCED_Y</th>\n",
       "      <th>FROM_REFINANCE_N</th>\n",
       "      <th>FROM_REFINANCE_Y</th>\n",
       "      <th>SEX_M</th>\n",
       "      <th>SEX_W</th>\n",
       "      <th>MARITAL_STATUS_C</th>\n",
       "      <th>MARITAL_STATUS_D</th>\n",
       "      <th>MARITAL_STATUS_J</th>\n",
       "      <th>MARITAL_STATUS_S</th>\n",
       "      <th>MARITAL_STATUS_W</th>\n",
       "      <th>MARITAL_STATUS_X</th>\n",
       "      <th>LEASE_A</th>\n",
       "      <th>LEASE_P</th>\n",
       "      <th>LEASE_R</th>\n",
       "      <th>LEASE_T</th>\n",
       "      <th>LEASE_X</th>\n",
       "    </tr>\n",
       "  </thead>\n",
       "  <tbody>\n",
       "    <tr>\n",
       "      <th>9472</th>\n",
       "      <td>0</td>\n",
       "      <td>1</td>\n",
       "      <td>0</td>\n",
       "      <td>1</td>\n",
       "      <td>0</td>\n",
       "      <td>1</td>\n",
       "      <td>0</td>\n",
       "      <td>1</td>\n",
       "      <td>0</td>\n",
       "      <td>0</td>\n",
       "      <td>0</td>\n",
       "      <td>0</td>\n",
       "      <td>0</td>\n",
       "      <td>0</td>\n",
       "      <td>0</td>\n",
       "      <td>0</td>\n",
       "      <td>1</td>\n",
       "      <td>0</td>\n",
       "      <td>0</td>\n",
       "      <td>0</td>\n",
       "    </tr>\n",
       "    <tr>\n",
       "      <th>20393</th>\n",
       "      <td>0</td>\n",
       "      <td>1</td>\n",
       "      <td>0</td>\n",
       "      <td>1</td>\n",
       "      <td>0</td>\n",
       "      <td>1</td>\n",
       "      <td>0</td>\n",
       "      <td>1</td>\n",
       "      <td>0</td>\n",
       "      <td>0</td>\n",
       "      <td>0</td>\n",
       "      <td>1</td>\n",
       "      <td>0</td>\n",
       "      <td>0</td>\n",
       "      <td>0</td>\n",
       "      <td>0</td>\n",
       "      <td>0</td>\n",
       "      <td>1</td>\n",
       "      <td>0</td>\n",
       "      <td>0</td>\n",
       "    </tr>\n",
       "    <tr>\n",
       "      <th>30443</th>\n",
       "      <td>0</td>\n",
       "      <td>1</td>\n",
       "      <td>0</td>\n",
       "      <td>1</td>\n",
       "      <td>0</td>\n",
       "      <td>1</td>\n",
       "      <td>0</td>\n",
       "      <td>1</td>\n",
       "      <td>0</td>\n",
       "      <td>0</td>\n",
       "      <td>0</td>\n",
       "      <td>1</td>\n",
       "      <td>0</td>\n",
       "      <td>0</td>\n",
       "      <td>0</td>\n",
       "      <td>0</td>\n",
       "      <td>1</td>\n",
       "      <td>0</td>\n",
       "      <td>0</td>\n",
       "      <td>0</td>\n",
       "    </tr>\n",
       "    <tr>\n",
       "      <th>20547</th>\n",
       "      <td>0</td>\n",
       "      <td>1</td>\n",
       "      <td>0</td>\n",
       "      <td>1</td>\n",
       "      <td>0</td>\n",
       "      <td>1</td>\n",
       "      <td>0</td>\n",
       "      <td>1</td>\n",
       "      <td>0</td>\n",
       "      <td>0</td>\n",
       "      <td>0</td>\n",
       "      <td>1</td>\n",
       "      <td>0</td>\n",
       "      <td>0</td>\n",
       "      <td>0</td>\n",
       "      <td>0</td>\n",
       "      <td>1</td>\n",
       "      <td>0</td>\n",
       "      <td>0</td>\n",
       "      <td>0</td>\n",
       "    </tr>\n",
       "    <tr>\n",
       "      <th>33195</th>\n",
       "      <td>0</td>\n",
       "      <td>1</td>\n",
       "      <td>0</td>\n",
       "      <td>1</td>\n",
       "      <td>0</td>\n",
       "      <td>1</td>\n",
       "      <td>0</td>\n",
       "      <td>1</td>\n",
       "      <td>0</td>\n",
       "      <td>0</td>\n",
       "      <td>0</td>\n",
       "      <td>1</td>\n",
       "      <td>0</td>\n",
       "      <td>0</td>\n",
       "      <td>0</td>\n",
       "      <td>0</td>\n",
       "      <td>1</td>\n",
       "      <td>0</td>\n",
       "      <td>0</td>\n",
       "      <td>0</td>\n",
       "    </tr>\n",
       "  </tbody>\n",
       "</table>\n",
       "</div>"
      ],
      "text/plain": [
       "       SECTOR_TYPE_CL  SECTOR_TYPE_FL  SECTOR_TYPE_PL  REFINANCED_N  \\\n",
       "9472                0               1               0             1   \n",
       "20393               0               1               0             1   \n",
       "30443               0               1               0             1   \n",
       "20547               0               1               0             1   \n",
       "33195               0               1               0             1   \n",
       "\n",
       "       REFINANCED_Y  FROM_REFINANCE_N  FROM_REFINANCE_Y  SEX_M  SEX_W  \\\n",
       "9472              0                 1                 0      1      0   \n",
       "20393             0                 1                 0      1      0   \n",
       "30443             0                 1                 0      1      0   \n",
       "20547             0                 1                 0      1      0   \n",
       "33195             0                 1                 0      1      0   \n",
       "\n",
       "       MARITAL_STATUS_C  MARITAL_STATUS_D  MARITAL_STATUS_J  MARITAL_STATUS_S  \\\n",
       "9472                  0                 0                 0                 0   \n",
       "20393                 0                 0                 1                 0   \n",
       "30443                 0                 0                 1                 0   \n",
       "20547                 0                 0                 1                 0   \n",
       "33195                 0                 0                 1                 0   \n",
       "\n",
       "       MARITAL_STATUS_W  MARITAL_STATUS_X  LEASE_A  LEASE_P  LEASE_R  LEASE_T  \\\n",
       "9472                  0                 0        0        1        0        0   \n",
       "20393                 0                 0        0        0        1        0   \n",
       "30443                 0                 0        0        1        0        0   \n",
       "20547                 0                 0        0        1        0        0   \n",
       "33195                 0                 0        0        1        0        0   \n",
       "\n",
       "       LEASE_X  \n",
       "9472         0  \n",
       "20393        0  \n",
       "30443        0  \n",
       "20547        0  \n",
       "33195        0  "
      ]
     },
     "execution_count": 31,
     "metadata": {},
     "output_type": "execute_result"
    }
   ],
   "source": [
    "x_train = x_train.loc[:, x_train.columns.isin(ns_df_sorted.Feat_names)]\n",
    "x_train.head()"
   ]
  },
  {
   "cell_type": "markdown",
   "metadata": {},
   "source": [
    "### Normalizing numerical variables"
   ]
  },
  {
   "cell_type": "code",
   "execution_count": 32,
   "metadata": {},
   "outputs": [
    {
     "data": {
      "text/html": [
       "<div>\n",
       "<style scoped>\n",
       "    .dataframe tbody tr th:only-of-type {\n",
       "        vertical-align: middle;\n",
       "    }\n",
       "\n",
       "    .dataframe tbody tr th {\n",
       "        vertical-align: top;\n",
       "    }\n",
       "\n",
       "    .dataframe thead th {\n",
       "        text-align: right;\n",
       "    }\n",
       "</style>\n",
       "<table border=\"1\" class=\"dataframe\">\n",
       "  <thead>\n",
       "    <tr style=\"text-align: right;\">\n",
       "      <th></th>\n",
       "      <th>SECTOR_TYPE_CL</th>\n",
       "      <th>SECTOR_TYPE_FL</th>\n",
       "      <th>SECTOR_TYPE_PL</th>\n",
       "      <th>REFINANCED_N</th>\n",
       "      <th>REFINANCED_Y</th>\n",
       "      <th>FROM_REFINANCE_N</th>\n",
       "      <th>FROM_REFINANCE_Y</th>\n",
       "      <th>SEX_M</th>\n",
       "      <th>SEX_W</th>\n",
       "      <th>MARITAL_STATUS_C</th>\n",
       "      <th>MARITAL_STATUS_D</th>\n",
       "      <th>MARITAL_STATUS_J</th>\n",
       "      <th>MARITAL_STATUS_S</th>\n",
       "      <th>MARITAL_STATUS_W</th>\n",
       "      <th>MARITAL_STATUS_X</th>\n",
       "      <th>LEASE_A</th>\n",
       "      <th>LEASE_P</th>\n",
       "      <th>LEASE_R</th>\n",
       "      <th>LEASE_T</th>\n",
       "      <th>LEASE_X</th>\n",
       "    </tr>\n",
       "  </thead>\n",
       "  <tbody>\n",
       "    <tr>\n",
       "      <th>0</th>\n",
       "      <td>0.0</td>\n",
       "      <td>1.0</td>\n",
       "      <td>0.0</td>\n",
       "      <td>1.0</td>\n",
       "      <td>0.0</td>\n",
       "      <td>1.0</td>\n",
       "      <td>0.0</td>\n",
       "      <td>1.0</td>\n",
       "      <td>0.0</td>\n",
       "      <td>0.0</td>\n",
       "      <td>0.0</td>\n",
       "      <td>0.0</td>\n",
       "      <td>0.0</td>\n",
       "      <td>0.0</td>\n",
       "      <td>0.0</td>\n",
       "      <td>0.0</td>\n",
       "      <td>1.0</td>\n",
       "      <td>0.0</td>\n",
       "      <td>0.0</td>\n",
       "      <td>0.0</td>\n",
       "    </tr>\n",
       "    <tr>\n",
       "      <th>1</th>\n",
       "      <td>0.0</td>\n",
       "      <td>1.0</td>\n",
       "      <td>0.0</td>\n",
       "      <td>1.0</td>\n",
       "      <td>0.0</td>\n",
       "      <td>1.0</td>\n",
       "      <td>0.0</td>\n",
       "      <td>1.0</td>\n",
       "      <td>0.0</td>\n",
       "      <td>0.0</td>\n",
       "      <td>0.0</td>\n",
       "      <td>1.0</td>\n",
       "      <td>0.0</td>\n",
       "      <td>0.0</td>\n",
       "      <td>0.0</td>\n",
       "      <td>0.0</td>\n",
       "      <td>0.0</td>\n",
       "      <td>1.0</td>\n",
       "      <td>0.0</td>\n",
       "      <td>0.0</td>\n",
       "    </tr>\n",
       "    <tr>\n",
       "      <th>2</th>\n",
       "      <td>0.0</td>\n",
       "      <td>1.0</td>\n",
       "      <td>0.0</td>\n",
       "      <td>1.0</td>\n",
       "      <td>0.0</td>\n",
       "      <td>1.0</td>\n",
       "      <td>0.0</td>\n",
       "      <td>1.0</td>\n",
       "      <td>0.0</td>\n",
       "      <td>0.0</td>\n",
       "      <td>0.0</td>\n",
       "      <td>1.0</td>\n",
       "      <td>0.0</td>\n",
       "      <td>0.0</td>\n",
       "      <td>0.0</td>\n",
       "      <td>0.0</td>\n",
       "      <td>1.0</td>\n",
       "      <td>0.0</td>\n",
       "      <td>0.0</td>\n",
       "      <td>0.0</td>\n",
       "    </tr>\n",
       "    <tr>\n",
       "      <th>3</th>\n",
       "      <td>0.0</td>\n",
       "      <td>1.0</td>\n",
       "      <td>0.0</td>\n",
       "      <td>1.0</td>\n",
       "      <td>0.0</td>\n",
       "      <td>1.0</td>\n",
       "      <td>0.0</td>\n",
       "      <td>1.0</td>\n",
       "      <td>0.0</td>\n",
       "      <td>0.0</td>\n",
       "      <td>0.0</td>\n",
       "      <td>1.0</td>\n",
       "      <td>0.0</td>\n",
       "      <td>0.0</td>\n",
       "      <td>0.0</td>\n",
       "      <td>0.0</td>\n",
       "      <td>1.0</td>\n",
       "      <td>0.0</td>\n",
       "      <td>0.0</td>\n",
       "      <td>0.0</td>\n",
       "    </tr>\n",
       "    <tr>\n",
       "      <th>4</th>\n",
       "      <td>0.0</td>\n",
       "      <td>1.0</td>\n",
       "      <td>0.0</td>\n",
       "      <td>1.0</td>\n",
       "      <td>0.0</td>\n",
       "      <td>1.0</td>\n",
       "      <td>0.0</td>\n",
       "      <td>1.0</td>\n",
       "      <td>0.0</td>\n",
       "      <td>0.0</td>\n",
       "      <td>0.0</td>\n",
       "      <td>1.0</td>\n",
       "      <td>0.0</td>\n",
       "      <td>0.0</td>\n",
       "      <td>0.0</td>\n",
       "      <td>0.0</td>\n",
       "      <td>1.0</td>\n",
       "      <td>0.0</td>\n",
       "      <td>0.0</td>\n",
       "      <td>0.0</td>\n",
       "    </tr>\n",
       "  </tbody>\n",
       "</table>\n",
       "</div>"
      ],
      "text/plain": [
       "   SECTOR_TYPE_CL  SECTOR_TYPE_FL  SECTOR_TYPE_PL  REFINANCED_N  REFINANCED_Y  \\\n",
       "0             0.0             1.0             0.0           1.0           0.0   \n",
       "1             0.0             1.0             0.0           1.0           0.0   \n",
       "2             0.0             1.0             0.0           1.0           0.0   \n",
       "3             0.0             1.0             0.0           1.0           0.0   \n",
       "4             0.0             1.0             0.0           1.0           0.0   \n",
       "\n",
       "   FROM_REFINANCE_N  FROM_REFINANCE_Y  SEX_M  SEX_W  MARITAL_STATUS_C  \\\n",
       "0               1.0               0.0    1.0    0.0               0.0   \n",
       "1               1.0               0.0    1.0    0.0               0.0   \n",
       "2               1.0               0.0    1.0    0.0               0.0   \n",
       "3               1.0               0.0    1.0    0.0               0.0   \n",
       "4               1.0               0.0    1.0    0.0               0.0   \n",
       "\n",
       "   MARITAL_STATUS_D  MARITAL_STATUS_J  MARITAL_STATUS_S  MARITAL_STATUS_W  \\\n",
       "0               0.0               0.0               0.0               0.0   \n",
       "1               0.0               1.0               0.0               0.0   \n",
       "2               0.0               1.0               0.0               0.0   \n",
       "3               0.0               1.0               0.0               0.0   \n",
       "4               0.0               1.0               0.0               0.0   \n",
       "\n",
       "   MARITAL_STATUS_X  LEASE_A  LEASE_P  LEASE_R  LEASE_T  LEASE_X  \n",
       "0               0.0      0.0      1.0      0.0      0.0      0.0  \n",
       "1               0.0      0.0      0.0      1.0      0.0      0.0  \n",
       "2               0.0      0.0      1.0      0.0      0.0      0.0  \n",
       "3               0.0      0.0      1.0      0.0      0.0      0.0  \n",
       "4               0.0      0.0      1.0      0.0      0.0      0.0  "
      ]
     },
     "execution_count": 32,
     "metadata": {},
     "output_type": "execute_result"
    }
   ],
   "source": [
    "scaler = MinMaxScaler(feature_range = (0,1))\n",
    "names = x_train.columns\n",
    "d = scaler.fit_transform(x_train)\n",
    "x_train = pd.DataFrame(d, columns = names)\n",
    "x_train.head()"
   ]
  },
  {
   "cell_type": "markdown",
   "metadata": {},
   "source": [
    "### SMOTE Oversampling to correct Data Imbalance"
   ]
  },
  {
   "cell_type": "code",
   "execution_count": 33,
   "metadata": {},
   "outputs": [
    {
     "name": "stdout",
     "output_type": "stream",
     "text": [
      "Before OverSampling, counts of label '1': 5078\n",
      "Before OverSampling, counts of label '0': 21025\n"
     ]
    }
   ],
   "source": [
    "print(\"Before OverSampling, counts of label '1': {}\".format(sum(y_train == 1)))\n",
    "print(\"Before OverSampling, counts of label '0': {}\".format(sum(y_train== 0)))"
   ]
  },
  {
   "cell_type": "code",
   "execution_count": 34,
   "metadata": {},
   "outputs": [],
   "source": [
    "# Resampling the minority class\n",
    "sm = SMOTE(sampling_strategy='minority', random_state=42)\n",
    "# Fit the model to generate the data.\n",
    "x_train, y_train = sm.fit_resample(x_train, y_train)"
   ]
  },
  {
   "cell_type": "code",
   "execution_count": 35,
   "metadata": {},
   "outputs": [
    {
     "name": "stdout",
     "output_type": "stream",
     "text": [
      "After OverSampling, counts of label '1': 21025\n",
      "After OverSampling, counts of label '0': 21025\n"
     ]
    }
   ],
   "source": [
    "print(\"After OverSampling, counts of label '1': {}\".format(sum(y_train == 1)))\n",
    "print(\"After OverSampling, counts of label '0': {}\".format(sum(y_train== 0)))"
   ]
  },
  {
   "cell_type": "markdown",
   "metadata": {},
   "source": [
    "### Cleaning Test Data"
   ]
  },
  {
   "cell_type": "code",
   "execution_count": 36,
   "metadata": {},
   "outputs": [],
   "source": [
    "def clean_data(data):\n",
    "    data['MARITAL_STATUS'] = data['MARITAL_STATUS'].fillna(marital_status_mode)\n",
    "    data['LEASE'] = data['LEASE'].fillna(lease_mode)\n",
    "    data = cap_data(data)\n",
    "    data = pd.get_dummies(data[['SECTOR_TYPE','REFINANCED', 'FROM_REFINANCE','SEX',\n",
    "                                                    'MARITAL_STATUS','LEASE']])\n",
    "    data = data.loc[:, data.columns.isin(ns_df_sorted.Feat_names)]\n",
    "    scaled = scaler.fit_transform(data)\n",
    "    data = pd.DataFrame(scaled, columns = data.columns)\n",
    "    return data"
   ]
  },
  {
   "cell_type": "code",
   "execution_count": 37,
   "metadata": {},
   "outputs": [
    {
     "name": "stdout",
     "output_type": "stream",
     "text": [
      "capping the  CUSTOMER_ID\n",
      "capping the  GOOD_VALUE\n",
      "capping the  ADVANCE_VALUE\n",
      "capping the  LOAN_VALUE\n",
      "capping the  INSTALLMENT_VALUE\n",
      "capping the  NUMBER_INSTALLMENT\n",
      "capping the  GAPR\n",
      "capping the  NIR\n",
      "capping the  AGE\n",
      "capping the  ANNUAL_INCOME\n",
      "capping the  NUMBER_OF_MONTHS\n"
     ]
    }
   ],
   "source": [
    "x_test = clean_data(x_test)"
   ]
  },
  {
   "cell_type": "markdown",
   "metadata": {},
   "source": [
    "\n",
    "## IV. Modeling\n",
    "\n",
    "**a) Modeling with Classifiers (try at least 3 different clf)**<br>\n",
    "*hint: try with some of the following models `Linear Models`, `KNN`, `SVM`, `Decision Trees`, `Random Forest`, `XGBoost`*\n",
    "\n",
    "**b) Tuning Parameter**<br>\n",
    "\n"
   ]
  },
  {
   "cell_type": "markdown",
   "metadata": {},
   "source": [
    "### Random Forest Model"
   ]
  },
  {
   "cell_type": "code",
   "execution_count": 38,
   "metadata": {},
   "outputs": [],
   "source": [
    "#build a random forest with default parameters\n",
    "rand_default = RandomForestClassifier()\n",
    "rand_default.fit(x_train, y_train)\n",
    "rand_default_pred = rand_default.predict(x_test)\n",
    "cv = RepeatedStratifiedKFold(n_splits=10, n_repeats=3, random_state=1)\n",
    "rand_default_n_scores = cross_val_score(rand_default, x_train, y_train, scoring='accuracy', cv=cv, n_jobs=-1, error_score='raise')"
   ]
  },
  {
   "cell_type": "code",
   "execution_count": 39,
   "metadata": {},
   "outputs": [
    {
     "data": {
      "text/plain": [
       "array([[8232,  780],\n",
       "       [ 376, 1800]])"
      ]
     },
     "execution_count": 39,
     "metadata": {},
     "output_type": "execute_result"
    }
   ],
   "source": [
    "rand_cm = metrics.confusion_matrix(y_test, rand_default_pred)\n",
    "rand_cm"
   ]
  },
  {
   "cell_type": "code",
   "execution_count": 40,
   "metadata": {},
   "outputs": [
    {
     "name": "stdout",
     "output_type": "stream",
     "text": [
      "              precision    recall  f1-score   support\n",
      "\n",
      "           0       0.96      0.91      0.93      9012\n",
      "           1       0.70      0.83      0.76      2176\n",
      "\n",
      "    accuracy                           0.90     11188\n",
      "   macro avg       0.83      0.87      0.85     11188\n",
      "weighted avg       0.91      0.90      0.90     11188\n",
      "\n"
     ]
    }
   ],
   "source": [
    "print(metrics.classification_report(y_test, rand_default_pred))"
   ]
  },
  {
   "cell_type": "code",
   "execution_count": 41,
   "metadata": {},
   "outputs": [],
   "source": [
    "#set parameters for hyperparameter tuning\n",
    "param_grid = {\n",
    "    'n_estimators': [25, 50, 100, 150],\n",
    "    'max_features': ['sqrt', 'log2', None],\n",
    "    'max_depth': [3, 6, 9],\n",
    "    'max_leaf_nodes': [3, 6, 9],\n",
    "}"
   ]
  },
  {
   "cell_type": "code",
   "execution_count": 42,
   "metadata": {
    "scrolled": true
   },
   "outputs": [
    {
     "name": "stdout",
     "output_type": "stream",
     "text": [
      "RandomForestClassifier(max_depth=9, max_features='log2', max_leaf_nodes=9,\n",
      "                       n_estimators=150)\n"
     ]
    }
   ],
   "source": [
    "#perform gridsearchcv hyperparameter tuning\n",
    "rand_grid_search = GridSearchCV(rand_default,\n",
    "                           param_grid=param_grid)\n",
    "rand_grid_search.fit(x_train, y_train)\n",
    "print(rand_grid_search.best_estimator_)"
   ]
  },
  {
   "cell_type": "code",
   "execution_count": 43,
   "metadata": {},
   "outputs": [],
   "source": [
    "#build a random forest with gridsearchcv parameters\n",
    "rand_grid_search = rand_grid_search.best_estimator_\n",
    "rand_grid_search.fit(x_train, y_train)\n",
    "rand_grid_search_pred = rand_grid_search.predict(x_test)\n",
    "cv = RepeatedStratifiedKFold(n_splits=10, n_repeats=3, random_state=1)\n",
    "rand_grid_search_n_scores = cross_val_score(rand_grid_search, x_train, y_train, scoring='accuracy', cv=cv, n_jobs=-1, error_score='raise')"
   ]
  },
  {
   "cell_type": "code",
   "execution_count": 44,
   "metadata": {},
   "outputs": [
    {
     "data": {
      "text/plain": [
       "array([[8284,  728],\n",
       "       [ 379, 1797]])"
      ]
     },
     "execution_count": 44,
     "metadata": {},
     "output_type": "execute_result"
    }
   ],
   "source": [
    "rand_grid_search_cm = metrics.confusion_matrix(y_test, rand_grid_search_pred)\n",
    "rand_grid_search_cm"
   ]
  },
  {
   "cell_type": "code",
   "execution_count": 45,
   "metadata": {},
   "outputs": [
    {
     "name": "stdout",
     "output_type": "stream",
     "text": [
      "              precision    recall  f1-score   support\n",
      "\n",
      "           0       0.96      0.92      0.94      9012\n",
      "           1       0.71      0.83      0.76      2176\n",
      "\n",
      "    accuracy                           0.90     11188\n",
      "   macro avg       0.83      0.87      0.85     11188\n",
      "weighted avg       0.91      0.90      0.90     11188\n",
      "\n"
     ]
    }
   ],
   "source": [
    "print(metrics.classification_report(y_test, rand_grid_search_pred))"
   ]
  },
  {
   "cell_type": "code",
   "execution_count": 46,
   "metadata": {},
   "outputs": [
    {
     "name": "stdout",
     "output_type": "stream",
     "text": [
      "RandomForestClassifier(max_depth=9, max_features=None, max_leaf_nodes=9,\n",
      "                       n_estimators=50)\n"
     ]
    }
   ],
   "source": [
    "#perform randomsearchcv hyperparameter tuning\n",
    "rand_random_search = RandomizedSearchCV(RandomForestClassifier(),\n",
    "                                   param_grid)\n",
    "rand_random_search.fit(x_train, y_train)\n",
    "print(rand_random_search.best_estimator_)"
   ]
  },
  {
   "cell_type": "code",
   "execution_count": 47,
   "metadata": {},
   "outputs": [],
   "source": [
    "#build a random forest with randomsearchcv parameters\n",
    "rand_random_search = rand_random_search.best_estimator_\n",
    "rand_random_search.fit(x_train, y_train)\n",
    "rand_random_search_pred = rand_random_search.predict(x_test)\n",
    "cv = RepeatedStratifiedKFold(n_splits=10, n_repeats=3, random_state=1)\n",
    "rand_random_search_n_scores = cross_val_score(rand_random_search, x_train, y_train, scoring='accuracy', cv=cv, n_jobs=-1, error_score='raise')"
   ]
  },
  {
   "cell_type": "code",
   "execution_count": 48,
   "metadata": {},
   "outputs": [
    {
     "data": {
      "text/plain": [
       "array([[8244,  768],\n",
       "       [ 369, 1807]])"
      ]
     },
     "execution_count": 48,
     "metadata": {},
     "output_type": "execute_result"
    }
   ],
   "source": [
    "rand_random_search_cm = metrics.confusion_matrix(y_test, rand_random_search_pred)\n",
    "rand_random_search_cm"
   ]
  },
  {
   "cell_type": "code",
   "execution_count": 49,
   "metadata": {},
   "outputs": [
    {
     "name": "stdout",
     "output_type": "stream",
     "text": [
      "              precision    recall  f1-score   support\n",
      "\n",
      "           0       0.96      0.91      0.94      9012\n",
      "           1       0.70      0.83      0.76      2176\n",
      "\n",
      "    accuracy                           0.90     11188\n",
      "   macro avg       0.83      0.87      0.85     11188\n",
      "weighted avg       0.91      0.90      0.90     11188\n",
      "\n"
     ]
    }
   ],
   "source": [
    "print(metrics.classification_report(y_test, rand_random_search_pred))"
   ]
  },
  {
   "cell_type": "markdown",
   "metadata": {},
   "source": [
    "### KNN Model"
   ]
  },
  {
   "cell_type": "code",
   "execution_count": 50,
   "metadata": {},
   "outputs": [],
   "source": [
    "#build a random forest with default parameters\n",
    "knn = KNeighborsClassifier()\n",
    "knn_model= knn.fit(x_train, y_train)\n",
    "knn_pred = knn_model.predict(x_test)"
   ]
  },
  {
   "cell_type": "code",
   "execution_count": 51,
   "metadata": {},
   "outputs": [],
   "source": [
    "cv = RepeatedStratifiedKFold(n_splits=10, n_repeats=3, random_state=1)\n",
    "knn_n_scores = cross_val_score(knn, x_train, y_train, scoring='accuracy', cv=cv, n_jobs=1, error_score=0)"
   ]
  },
  {
   "cell_type": "code",
   "execution_count": 52,
   "metadata": {},
   "outputs": [],
   "source": [
    "#set parameters for the knn hyperparameter tuning\n",
    "knn_params = {\n",
    "    'n_neighbors': range(1,30,2),\n",
    "    'weights': ['uniform', 'distance'],\n",
    "    'metric': ['euclidean', 'manhattan', 'minkowski'],\n",
    "    'leaf_size': range(1,50,5)\n",
    "}"
   ]
  },
  {
   "cell_type": "code",
   "execution_count": 53,
   "metadata": {},
   "outputs": [
    {
     "name": "stdout",
     "output_type": "stream",
     "text": [
      "KNeighborsClassifier(leaf_size=1, metric='manhattan', n_neighbors=17,\n",
      "                     weights='distance')\n"
     ]
    }
   ],
   "source": [
    "#gridsearchcv\n",
    "knn_grid_search = GridSearchCV(estimator = knn,\n",
    "                           param_grid=knn_params)\n",
    "knn_grid_search.fit(x_train, y_train)\n",
    "print(knn_grid_search.best_estimator_)"
   ]
  },
  {
   "cell_type": "code",
   "execution_count": 54,
   "metadata": {},
   "outputs": [],
   "source": [
    "#build a knn with gridsearchcv parameters\n",
    "knn_grid_search = knn_grid_search.best_estimator_\n",
    "knn_grid_search.fit(x_train, y_train)\n",
    "knn_grid_search_pred = knn_grid_search.predict(x_test)\n",
    "cv = RepeatedStratifiedKFold(n_splits=10, n_repeats=3, random_state=1)\n",
    "knn_grid_search_n_scores = cross_val_score(knn_grid_search, x_train, y_train, scoring='accuracy', cv=cv, n_jobs=-1, error_score='raise')"
   ]
  },
  {
   "cell_type": "code",
   "execution_count": 55,
   "metadata": {},
   "outputs": [
    {
     "data": {
      "text/plain": [
       "array([[8214,  798],\n",
       "       [ 369, 1807]])"
      ]
     },
     "execution_count": 55,
     "metadata": {},
     "output_type": "execute_result"
    }
   ],
   "source": [
    "\n",
    "knn_grid_search_cm = metrics.confusion_matrix(y_test, knn_grid_search_pred)\n",
    "knn_grid_search_cm"
   ]
  },
  {
   "cell_type": "code",
   "execution_count": 56,
   "metadata": {},
   "outputs": [
    {
     "name": "stdout",
     "output_type": "stream",
     "text": [
      "              precision    recall  f1-score   support\n",
      "\n",
      "           0       0.96      0.91      0.93      9012\n",
      "           1       0.69      0.83      0.76      2176\n",
      "\n",
      "    accuracy                           0.90     11188\n",
      "   macro avg       0.83      0.87      0.84     11188\n",
      "weighted avg       0.91      0.90      0.90     11188\n",
      "\n"
     ]
    }
   ],
   "source": [
    "print(metrics.classification_report(y_test, knn_grid_search_pred))"
   ]
  },
  {
   "cell_type": "code",
   "execution_count": 57,
   "metadata": {},
   "outputs": [
    {
     "name": "stdout",
     "output_type": "stream",
     "text": [
      "KNeighborsClassifier(leaf_size=1, metric='manhattan', n_neighbors=17)\n"
     ]
    }
   ],
   "source": [
    "#perform randomsearchcv hyperparameter tuning\n",
    "knn_random_search = RandomizedSearchCV(knn,knn_params)\n",
    "knn_random_search.fit(x_train, y_train)\n",
    "print(knn_random_search.best_estimator_)"
   ]
  },
  {
   "cell_type": "code",
   "execution_count": 58,
   "metadata": {},
   "outputs": [],
   "source": [
    "#build a knn with randomsearchcv parameters\n",
    "knn_random_search = knn_random_search.best_estimator_\n",
    "knn_random_search.fit(x_train, y_train)\n",
    "knn_random_search_pred = knn_random_search.predict(x_test)\n",
    "cv = RepeatedStratifiedKFold(n_splits=10, n_repeats=3, random_state=1)\n",
    "knn_random_search_n_scores = cross_val_score(knn_random_search, x_train, y_train, scoring='accuracy', cv=cv, n_jobs=-1, error_score='raise')"
   ]
  },
  {
   "cell_type": "code",
   "execution_count": 59,
   "metadata": {},
   "outputs": [
    {
     "data": {
      "text/plain": [
       "array([[8187,  825],\n",
       "       [ 356, 1820]])"
      ]
     },
     "execution_count": 59,
     "metadata": {},
     "output_type": "execute_result"
    }
   ],
   "source": [
    "knn_random_search_cm = metrics.confusion_matrix(y_test, knn_random_search_pred)\n",
    "knn_random_search_cm"
   ]
  },
  {
   "cell_type": "code",
   "execution_count": 60,
   "metadata": {},
   "outputs": [
    {
     "name": "stdout",
     "output_type": "stream",
     "text": [
      "              precision    recall  f1-score   support\n",
      "\n",
      "           0       0.96      0.91      0.93      9012\n",
      "           1       0.69      0.84      0.76      2176\n",
      "\n",
      "    accuracy                           0.89     11188\n",
      "   macro avg       0.82      0.87      0.84     11188\n",
      "weighted avg       0.91      0.89      0.90     11188\n",
      "\n"
     ]
    }
   ],
   "source": [
    "print(metrics.classification_report(y_test, knn_random_search_pred))"
   ]
  },
  {
   "cell_type": "markdown",
   "metadata": {},
   "source": [
    "### Decision Tree Model"
   ]
  },
  {
   "cell_type": "code",
   "execution_count": 61,
   "metadata": {},
   "outputs": [],
   "source": [
    "tr = DecisionTreeClassifier()\n",
    "tr_model= tr.fit(x_train, y_train)\n",
    "tr_pred = tr_model.predict(x_test)"
   ]
  },
  {
   "cell_type": "code",
   "execution_count": 62,
   "metadata": {},
   "outputs": [],
   "source": [
    "cv = RepeatedStratifiedKFold(n_splits=10, n_repeats=3, random_state=1)\n",
    "tr_n_scores = cross_val_score(tr, x_train, y_train, scoring='accuracy', cv=cv, n_jobs=-1, error_score='raise')"
   ]
  },
  {
   "cell_type": "code",
   "execution_count": 63,
   "metadata": {},
   "outputs": [],
   "source": [
    "#set parameters for the decision tree hyperparameter tuning\n",
    "tr_params = {\n",
    "    'max_depth': [2, 3, 5, 10, 20],\n",
    "    'min_samples_leaf': [5, 10, 20, 50, 100],\n",
    "    'criterion': [\"gini\", \"entropy\"]\n",
    "}"
   ]
  },
  {
   "cell_type": "code",
   "execution_count": 64,
   "metadata": {},
   "outputs": [
    {
     "name": "stdout",
     "output_type": "stream",
     "text": [
      "DecisionTreeClassifier(criterion='entropy', max_depth=20, min_samples_leaf=5)\n"
     ]
    }
   ],
   "source": [
    "#gridsearchcv\n",
    "tr_grid_search = GridSearchCV(estimator = tr,\n",
    "                           param_grid=tr_params)\n",
    "tr_grid_search.fit(x_train, y_train)\n",
    "print(tr_grid_search.best_estimator_)"
   ]
  },
  {
   "cell_type": "code",
   "execution_count": 65,
   "metadata": {},
   "outputs": [],
   "source": [
    "#build a tr with gridsearchcv parameters\n",
    "tr_grid_search = tr_grid_search.best_estimator_\n",
    "tr_grid_search.fit(x_train, y_train)\n",
    "tr_grid_search_pred = tr_grid_search.predict(x_test)\n",
    "cv = RepeatedStratifiedKFold(n_splits=10, n_repeats=3, random_state=1)\n",
    "tr_grid_search_n_scores = cross_val_score(tr_grid_search, x_train, y_train, scoring='accuracy', cv=cv, n_jobs=-1, error_score='raise')"
   ]
  },
  {
   "cell_type": "code",
   "execution_count": 66,
   "metadata": {},
   "outputs": [
    {
     "data": {
      "text/plain": [
       "array([[8224,  788],\n",
       "       [ 374, 1802]])"
      ]
     },
     "execution_count": 66,
     "metadata": {},
     "output_type": "execute_result"
    }
   ],
   "source": [
    "\n",
    "tr_grid_search_cm = metrics.confusion_matrix(y_test, tr_grid_search_pred)\n",
    "tr_grid_search_cm"
   ]
  },
  {
   "cell_type": "code",
   "execution_count": 67,
   "metadata": {},
   "outputs": [
    {
     "name": "stdout",
     "output_type": "stream",
     "text": [
      "              precision    recall  f1-score   support\n",
      "\n",
      "           0       0.96      0.91      0.93      9012\n",
      "           1       0.70      0.83      0.76      2176\n",
      "\n",
      "    accuracy                           0.90     11188\n",
      "   macro avg       0.83      0.87      0.85     11188\n",
      "weighted avg       0.91      0.90      0.90     11188\n",
      "\n"
     ]
    }
   ],
   "source": [
    "print(metrics.classification_report(y_test, tr_grid_search_pred))"
   ]
  },
  {
   "cell_type": "code",
   "execution_count": 68,
   "metadata": {},
   "outputs": [
    {
     "name": "stdout",
     "output_type": "stream",
     "text": [
      "DecisionTreeClassifier(criterion='entropy', max_depth=10, min_samples_leaf=10)\n"
     ]
    }
   ],
   "source": [
    "#perform randomsearchcv hyperparameter tuning\n",
    "tr_random_search = RandomizedSearchCV( tr,tr_params)\n",
    "tr_random_search.fit(x_train, y_train)\n",
    "print(tr_random_search.best_estimator_)"
   ]
  },
  {
   "cell_type": "code",
   "execution_count": 69,
   "metadata": {},
   "outputs": [],
   "source": [
    "#build a tree with randomsearchcv parameters\n",
    "tr_random_search = tr_random_search.best_estimator_\n",
    "tr_random_search.fit(x_train, y_train)\n",
    "tr_random_search_pred = tr_random_search.predict(x_test)\n",
    "cv = RepeatedStratifiedKFold(n_splits=10, n_repeats=3, random_state=1)\n",
    "tr_random_search_n_scores = cross_val_score(tr_random_search, x_train, y_train, scoring='accuracy', cv=cv, n_jobs=-1, error_score='raise')"
   ]
  },
  {
   "cell_type": "code",
   "execution_count": 70,
   "metadata": {},
   "outputs": [
    {
     "data": {
      "text/plain": [
       "array([[8240,  772],\n",
       "       [ 379, 1797]])"
      ]
     },
     "execution_count": 70,
     "metadata": {},
     "output_type": "execute_result"
    }
   ],
   "source": [
    "tr_random_search_cm = metrics.confusion_matrix(y_test, tr_random_search_pred)\n",
    "tr_random_search_cm"
   ]
  },
  {
   "cell_type": "code",
   "execution_count": 71,
   "metadata": {},
   "outputs": [
    {
     "name": "stdout",
     "output_type": "stream",
     "text": [
      "              precision    recall  f1-score   support\n",
      "\n",
      "           0       0.96      0.91      0.93      9012\n",
      "           1       0.70      0.83      0.76      2176\n",
      "\n",
      "    accuracy                           0.90     11188\n",
      "   macro avg       0.83      0.87      0.85     11188\n",
      "weighted avg       0.91      0.90      0.90     11188\n",
      "\n"
     ]
    }
   ],
   "source": [
    "print(metrics.classification_report(y_test, tr_random_search_pred))"
   ]
  },
  {
   "cell_type": "markdown",
   "metadata": {},
   "source": [
    "### Gradient Boosting"
   ]
  },
  {
   "cell_type": "code",
   "execution_count": 72,
   "metadata": {},
   "outputs": [],
   "source": [
    "grd = GradientBoostingClassifier()\n",
    "grd_model= grd.fit(x_train, y_train)\n",
    "grd_pred = grd_model.predict(x_test)"
   ]
  },
  {
   "cell_type": "code",
   "execution_count": 73,
   "metadata": {},
   "outputs": [],
   "source": [
    "cv = RepeatedStratifiedKFold(n_splits=10, n_repeats=3, random_state=1)\n",
    "grd_n_scores = cross_val_score(grd, x_train, y_train, scoring='accuracy', cv=cv, n_jobs=-1, error_score='raise')"
   ]
  },
  {
   "cell_type": "code",
   "execution_count": 74,
   "metadata": {},
   "outputs": [],
   "source": [
    "#set parameters for the gb hyperparameter tuning\n",
    "grd_params = {'n_estimators':range(10,100,10)\n",
    "}"
   ]
  },
  {
   "cell_type": "code",
   "execution_count": 75,
   "metadata": {},
   "outputs": [
    {
     "name": "stdout",
     "output_type": "stream",
     "text": [
      "GradientBoostingClassifier(n_estimators=90)\n"
     ]
    }
   ],
   "source": [
    "#gridsearchcv\n",
    "grd_grid_search = GridSearchCV(estimator = grd,\n",
    "                           param_grid=grd_params)\n",
    "grd_grid_search.fit(x_train, y_train)\n",
    "print(grd_grid_search.best_estimator_)"
   ]
  },
  {
   "cell_type": "code",
   "execution_count": 76,
   "metadata": {},
   "outputs": [],
   "source": [
    "#build a tr with gridsearchcv parameters\n",
    "grd_grid_search = grd_grid_search.best_estimator_\n",
    "grd_grid_search.fit(x_train, y_train)\n",
    "grd_grid_search_pred = grd_grid_search.predict(x_test)\n",
    "cv = RepeatedStratifiedKFold(n_splits=10, n_repeats=3, random_state=1)\n",
    "grd_grid_search_n_scores = cross_val_score(grd_grid_search, x_train, y_train, scoring='accuracy', cv=cv, n_jobs=-1, error_score='raise')"
   ]
  },
  {
   "cell_type": "code",
   "execution_count": 77,
   "metadata": {},
   "outputs": [
    {
     "data": {
      "text/plain": [
       "array([[8224,  788],\n",
       "       [ 366, 1810]])"
      ]
     },
     "execution_count": 77,
     "metadata": {},
     "output_type": "execute_result"
    }
   ],
   "source": [
    "grd_grid_search_cm = metrics.confusion_matrix(y_test, grd_grid_search_pred)\n",
    "grd_grid_search_cm"
   ]
  },
  {
   "cell_type": "code",
   "execution_count": 78,
   "metadata": {},
   "outputs": [
    {
     "name": "stdout",
     "output_type": "stream",
     "text": [
      "              precision    recall  f1-score   support\n",
      "\n",
      "           0       0.96      0.91      0.93      9012\n",
      "           1       0.70      0.83      0.76      2176\n",
      "\n",
      "    accuracy                           0.90     11188\n",
      "   macro avg       0.83      0.87      0.85     11188\n",
      "weighted avg       0.91      0.90      0.90     11188\n",
      "\n"
     ]
    }
   ],
   "source": [
    "print(metrics.classification_report(y_test, grd_grid_search_pred))"
   ]
  },
  {
   "cell_type": "code",
   "execution_count": 79,
   "metadata": {},
   "outputs": [
    {
     "name": "stdout",
     "output_type": "stream",
     "text": [
      "GradientBoostingClassifier(n_estimators=90)\n"
     ]
    }
   ],
   "source": [
    "#perform randomsearchcv hyperparameter tuning\n",
    "grd_random_search = RandomizedSearchCV( grd,grd_params)\n",
    "grd_random_search.fit(x_train, y_train)\n",
    "print(grd_random_search.best_estimator_)"
   ]
  },
  {
   "cell_type": "code",
   "execution_count": 80,
   "metadata": {},
   "outputs": [],
   "source": [
    "#build a grd with randomsearchcv parameters\n",
    "grd_random_search = grd_random_search.best_estimator_\n",
    "grd_random_search.fit(x_train, y_train)\n",
    "grd_random_search_pred = grd_random_search.predict(x_test)\n",
    "cv = RepeatedStratifiedKFold(n_splits=10, n_repeats=3, random_state=1)\n",
    "grd_random_search_n_scores = cross_val_score(grd_random_search, x_train, y_train, scoring='accuracy', cv=cv, n_jobs=-1, error_score='raise')"
   ]
  },
  {
   "cell_type": "code",
   "execution_count": 81,
   "metadata": {},
   "outputs": [
    {
     "data": {
      "text/plain": [
       "array([[8224,  788],\n",
       "       [ 366, 1810]])"
      ]
     },
     "execution_count": 81,
     "metadata": {},
     "output_type": "execute_result"
    }
   ],
   "source": [
    "grd_random_search_cm = metrics.confusion_matrix(y_test, grd_random_search_pred)\n",
    "grd_random_search_cm"
   ]
  },
  {
   "cell_type": "code",
   "execution_count": 82,
   "metadata": {},
   "outputs": [
    {
     "name": "stdout",
     "output_type": "stream",
     "text": [
      "              precision    recall  f1-score   support\n",
      "\n",
      "           0       0.96      0.91      0.93      9012\n",
      "           1       0.70      0.83      0.76      2176\n",
      "\n",
      "    accuracy                           0.90     11188\n",
      "   macro avg       0.83      0.87      0.85     11188\n",
      "weighted avg       0.91      0.90      0.90     11188\n",
      "\n"
     ]
    }
   ],
   "source": [
    "print(metrics.classification_report(y_test, grd_random_search_pred))"
   ]
  },
  {
   "cell_type": "markdown",
   "metadata": {},
   "source": [
    "### SVM"
   ]
  },
  {
   "cell_type": "code",
   "execution_count": 83,
   "metadata": {},
   "outputs": [],
   "source": [
    "sv = LinearSVC()\n",
    "sv_model= sv.fit(x_train, y_train)\n",
    "sv_pred = sv_model.predict(x_test)"
   ]
  },
  {
   "cell_type": "code",
   "execution_count": 84,
   "metadata": {},
   "outputs": [],
   "source": [
    "cv = RepeatedStratifiedKFold(n_splits=10, n_repeats=3, random_state=1)\n",
    "sv_n_scores = cross_val_score(sv, x_train, y_train, scoring='accuracy', cv=cv, n_jobs=-1, error_score='raise')"
   ]
  },
  {
   "cell_type": "code",
   "execution_count": 85,
   "metadata": {},
   "outputs": [],
   "source": [
    "#set parameters for the knn hyperparameter tuning\n",
    "sv_params = {'C': [0.1, 1, 10, 100, 1000]\n",
    "}"
   ]
  },
  {
   "cell_type": "code",
   "execution_count": 86,
   "metadata": {},
   "outputs": [
    {
     "name": "stdout",
     "output_type": "stream",
     "text": [
      "LinearSVC(C=0.1)\n"
     ]
    }
   ],
   "source": [
    "#gridsearchcv\n",
    "sv_grid_search = GridSearchCV(estimator = sv,\n",
    "                           param_grid=sv_params)\n",
    "sv_grid_search.fit(x_train, y_train)\n",
    "print(sv_grid_search.best_estimator_)"
   ]
  },
  {
   "cell_type": "code",
   "execution_count": 87,
   "metadata": {},
   "outputs": [],
   "source": [
    "#build a sv with gridsearchcv parameters\n",
    "sv_grid_search = sv_grid_search.best_estimator_\n",
    "sv_grid_search.fit(x_train, y_train)\n",
    "sv_grid_search_pred = sv_grid_search.predict(x_test)\n",
    "cv = RepeatedStratifiedKFold(n_splits=10, n_repeats=3, random_state=1)\n",
    "sv_grid_search_n_scores = cross_val_score(sv_grid_search, x_train, y_train, scoring='accuracy', cv=cv, n_jobs=-1, error_score='raise')"
   ]
  },
  {
   "cell_type": "code",
   "execution_count": 88,
   "metadata": {},
   "outputs": [
    {
     "data": {
      "text/plain": [
       "array([[8211,  801],\n",
       "       [ 361, 1815]])"
      ]
     },
     "execution_count": 88,
     "metadata": {},
     "output_type": "execute_result"
    }
   ],
   "source": [
    "sv_grid_search_cm = metrics.confusion_matrix(y_test, sv_grid_search_pred)\n",
    "sv_grid_search_cm"
   ]
  },
  {
   "cell_type": "code",
   "execution_count": 89,
   "metadata": {},
   "outputs": [
    {
     "name": "stdout",
     "output_type": "stream",
     "text": [
      "              precision    recall  f1-score   support\n",
      "\n",
      "           0       0.96      0.91      0.93      9012\n",
      "           1       0.69      0.83      0.76      2176\n",
      "\n",
      "    accuracy                           0.90     11188\n",
      "   macro avg       0.83      0.87      0.85     11188\n",
      "weighted avg       0.91      0.90      0.90     11188\n",
      "\n"
     ]
    }
   ],
   "source": [
    "print(metrics.classification_report(y_test, sv_grid_search_pred))"
   ]
  },
  {
   "cell_type": "code",
   "execution_count": 90,
   "metadata": {},
   "outputs": [
    {
     "name": "stdout",
     "output_type": "stream",
     "text": [
      "LinearSVC(C=10)\n"
     ]
    }
   ],
   "source": [
    "#perform randomsearchcv hyperparameter tuning\n",
    "sv_random_search = RandomizedSearchCV(sv,sv_params)\n",
    "sv_random_search.fit(x_train, y_train)\n",
    "print(sv_random_search.best_estimator_)"
   ]
  },
  {
   "cell_type": "code",
   "execution_count": 91,
   "metadata": {},
   "outputs": [],
   "source": [
    "#build a knn with randomsearchcv parameters\n",
    "sv_random_search = sv_random_search.best_estimator_\n",
    "sv_random_search.fit(x_train, y_train)\n",
    "sv_random_search_pred = sv_random_search.predict(x_test)\n",
    "cv = RepeatedStratifiedKFold(n_splits=10, n_repeats=3, random_state=1)\n",
    "sv_random_search_n_scores = cross_val_score(sv_random_search, x_train, y_train, scoring='accuracy', cv=cv, n_jobs=-1, error_score='raise')"
   ]
  },
  {
   "cell_type": "code",
   "execution_count": 92,
   "metadata": {},
   "outputs": [
    {
     "data": {
      "text/plain": [
       "array([[8211,  801],\n",
       "       [ 361, 1815]])"
      ]
     },
     "execution_count": 92,
     "metadata": {},
     "output_type": "execute_result"
    }
   ],
   "source": [
    "sv_random_search_cm = metrics.confusion_matrix(y_test, sv_random_search_pred)\n",
    "sv_random_search_cm"
   ]
  },
  {
   "cell_type": "code",
   "execution_count": 93,
   "metadata": {},
   "outputs": [
    {
     "name": "stdout",
     "output_type": "stream",
     "text": [
      "              precision    recall  f1-score   support\n",
      "\n",
      "           0       0.96      0.91      0.93      9012\n",
      "           1       0.69      0.83      0.76      2176\n",
      "\n",
      "    accuracy                           0.90     11188\n",
      "   macro avg       0.83      0.87      0.85     11188\n",
      "weighted avg       0.91      0.90      0.90     11188\n",
      "\n"
     ]
    }
   ],
   "source": [
    "print(metrics.classification_report(y_test, sv_random_search_pred))"
   ]
  },
  {
   "cell_type": "markdown",
   "metadata": {},
   "source": [
    "\n",
    "## V. Evaluation\n",
    "\n",
    "**a) Evaluating with Confusion Matrix**<br>\n",
    "\n",
    "**a) Evaluating with other Metrics**<br>\n",
    "\n"
   ]
  },
  {
   "cell_type": "code",
   "execution_count": 94,
   "metadata": {},
   "outputs": [],
   "source": [
    "def conf_matrix(cm,model):\n",
    "    # evaluate the model\n",
    "    ax = sns.heatmap(cm/np.sum(cm), annot=True,\n",
    "                fmt='.2%', cmap='Blues')       \n",
    "    ax.set_title(f\"Confusion Matrix of {model}\");\n",
    "    ax.set_xlabel('\\nPredicted Values')\n",
    "    ax.set_ylabel('Actual Values ');\n",
    "\n",
    "\n",
    "\n",
    "    ## Ticket labels - List must be in alphabetical order\n",
    "    ax.xaxis.set_ticklabels(['False','True'])\n",
    "    ax.yaxis.set_ticklabels(['False','True'])\n",
    "\n",
    "\n",
    "\n",
    "    ## Display the visualization of the Confusion Matrix.\n",
    "    print(cm)\n",
    "    plt.show()\n"
   ]
  },
  {
   "cell_type": "code",
   "execution_count": 95,
   "metadata": {},
   "outputs": [],
   "source": [
    "def create_roc_curve(test, pred):\n",
    "    # calculate roc curve\n",
    "    fpr, tpr, thresholds = metrics.roc_curve(test, pred)\n",
    "    # plot no skill\n",
    "    plt.plot([0, 1], [0, 1], linestyle='--')\n",
    "    # plot the roc curve for the model\n",
    "    plt.plot(fpr, tpr, marker='.')\n",
    "    plt.xlabel('False positive rate')\n",
    "    plt.ylabel('Sensitivity/ Recall')\n",
    "    # show the plot\n",
    "    return plt.show()"
   ]
  },
  {
   "cell_type": "code",
   "execution_count": 96,
   "metadata": {},
   "outputs": [],
   "source": [
    "list_of_metrics = []\n",
    "\n",
    "def model_metric(test, pred, score, model, param):\n",
    "    auc = metrics.roc_auc_score(test, pred)\n",
    "    accuracy = np.mean(score)\n",
    "    precision = metrics.precision_score(test,pred)\n",
    "    recall = metrics.recall_score(test, pred)\n",
    "    f1_score = metrics.f1_score(test, pred)\n",
    "    \n",
    "    s = pd.Series({'Model': model,\n",
    "                'Parameter': param,\n",
    "                'Accuracy': accuracy, \n",
    "               'Precision': precision, \n",
    "               'Recall/Sensitivity': recall,\n",
    "               'F1 Score': f1_score,\n",
    "               'AUC' :auc})\n",
    "    list_of_metrics.append(s)\n",
    "    return s"
   ]
  },
  {
   "cell_type": "markdown",
   "metadata": {},
   "source": [
    "### Random Forest Evaluation"
   ]
  },
  {
   "cell_type": "code",
   "execution_count": 97,
   "metadata": {},
   "outputs": [
    {
     "name": "stdout",
     "output_type": "stream",
     "text": [
      "[[8232  780]\n",
      " [ 376 1800]]\n"
     ]
    },
    {
     "data": {
      "image/png": "[encoded data removed]",
      "text/plain": [
       "<Figure size 432x288 with 2 Axes>"
      ]
     },
     "metadata": {},
     "output_type": "display_data"
    }
   ],
   "source": [
    "#Default Random forest confusion matrix\n",
    "conf_matrix(rand_cm,'Default Random Forest')"
   ]
  },
  {
   "cell_type": "code",
   "execution_count": 98,
   "metadata": {},
   "outputs": [
    {
     "data": {
      "text/plain": [
       "Model                 Random Forest\n",
       "Parameter                   Default\n",
       "Accuracy                   0.884241\n",
       "Precision                  0.697674\n",
       "Recall/Sensitivity         0.827206\n",
       "F1 Score                   0.756939\n",
       "AUC                        0.870327\n",
       "dtype: object"
      ]
     },
     "execution_count": 98,
     "metadata": {},
     "output_type": "execute_result"
    }
   ],
   "source": [
    "#Random forest metrics\n",
    "model_metric(y_test, rand_default_pred, rand_default_n_scores, 'Random Forest', 'Default')"
   ]
  },
  {
   "cell_type": "code",
   "execution_count": 99,
   "metadata": {},
   "outputs": [
    {
     "data": {
      "image/png": "[encoded data removed]",
      "text/plain": [
       "<Figure size 432x288 with 1 Axes>"
      ]
     },
     "metadata": {},
     "output_type": "display_data"
    }
   ],
   "source": [
    "#Default Random forest roc curve\n",
    "create_roc_curve(y_test, rand_default_pred)"
   ]
  },
  {
   "cell_type": "code",
   "execution_count": 100,
   "metadata": {},
   "outputs": [
    {
     "name": "stdout",
     "output_type": "stream",
     "text": [
      "[[8284  728]\n",
      " [ 379 1797]]\n"
     ]
    },
    {
     "data": {
      "image/png": "[encoded data removed]",
      "text/plain": [
       "<Figure size 432x288 with 2 Axes>"
      ]
     },
     "metadata": {},
     "output_type": "display_data"
    }
   ],
   "source": [
    "# GridSearchCV Random forest confusion matrix\n",
    "conf_matrix(rand_grid_search_cm,'GridSearchCV Random Forest')"
   ]
  },
  {
   "cell_type": "code",
   "execution_count": 101,
   "metadata": {},
   "outputs": [
    {
     "data": {
      "text/plain": [
       "Model                 Random Forest\n",
       "Parameter              GridSearchCv\n",
       "Accuracy                   0.880262\n",
       "Precision                  0.711683\n",
       "Recall/Sensitivity         0.825827\n",
       "F1 Score                   0.764518\n",
       "AUC                        0.872523\n",
       "dtype: object"
      ]
     },
     "execution_count": 101,
     "metadata": {},
     "output_type": "execute_result"
    }
   ],
   "source": [
    "# GridSearchCV Random forest metrics\n",
    "model_metric(y_test, rand_grid_search_pred, rand_grid_search_n_scores, 'Random Forest', 'GridSearchCv')"
   ]
  },
  {
   "cell_type": "code",
   "execution_count": 102,
   "metadata": {},
   "outputs": [
    {
     "data": {
      "image/png": "[encoded data removed]",
      "text/plain": [
       "<Figure size 432x288 with 1 Axes>"
      ]
     },
     "metadata": {},
     "output_type": "display_data"
    }
   ],
   "source": [
    "# GridSearchCV Random forest roc curve\n",
    "create_roc_curve(y_test, rand_grid_search_pred)"
   ]
  },
  {
   "cell_type": "code",
   "execution_count": 103,
   "metadata": {},
   "outputs": [
    {
     "name": "stdout",
     "output_type": "stream",
     "text": [
      "[[8244  768]\n",
      " [ 369 1807]]\n"
     ]
    },
    {
     "data": {
      "image/png": "[encoded data removed]",
      "text/plain": [
       "<Figure size 432x288 with 2 Axes>"
      ]
     },
     "metadata": {},
     "output_type": "display_data"
    }
   ],
   "source": [
    "# RandomSearchCV Random forest confusion matrix\n",
    "conf_matrix(rand_random_search_cm,'RandomSearchCV Random Forest')"
   ]
  },
  {
   "cell_type": "code",
   "execution_count": 104,
   "metadata": {},
   "outputs": [
    {
     "data": {
      "text/plain": [
       "Model                  Random Forest\n",
       "Parameter             RandomSearchCv\n",
       "Accuracy                    0.880595\n",
       "Precision                   0.701748\n",
       "Recall/Sensitivity          0.830423\n",
       "F1 Score                    0.760682\n",
       "AUC                         0.872602\n",
       "dtype: object"
      ]
     },
     "execution_count": 104,
     "metadata": {},
     "output_type": "execute_result"
    }
   ],
   "source": [
    "# RandomSearchCV Random forest metrics\n",
    "model_metric(y_test, rand_random_search_pred, rand_random_search_n_scores, 'Random Forest', 'RandomSearchCv')"
   ]
  },
  {
   "cell_type": "code",
   "execution_count": 105,
   "metadata": {},
   "outputs": [
    {
     "data": {
      "image/png": "[encoded data removed]",
      "text/plain": [
       "<Figure size 432x288 with 1 Axes>"
      ]
     },
     "metadata": {},
     "output_type": "display_data"
    }
   ],
   "source": [
    "# GridSearchCV Random forest roc curve\n",
    "create_roc_curve(y_test, rand_random_search_pred)"
   ]
  },
  {
   "cell_type": "markdown",
   "metadata": {},
   "source": [
    "### KNN Evaluation"
   ]
  },
  {
   "cell_type": "code",
   "execution_count": 106,
   "metadata": {},
   "outputs": [
    {
     "name": "stdout",
     "output_type": "stream",
     "text": [
      "[[8079  933]\n",
      " [ 340 1836]]\n"
     ]
    },
    {
     "data": {
      "image/png": "[encoded data removed]",
      "text/plain": [
       "<Figure size 432x288 with 2 Axes>"
      ]
     },
     "metadata": {},
     "output_type": "display_data"
    }
   ],
   "source": [
    "#Default knn confusion matrix\n",
    "knn_cm = metrics.confusion_matrix(y_test, knn_pred)\n",
    "conf_matrix(knn_cm ,'KNN')"
   ]
  },
  {
   "cell_type": "code",
   "execution_count": 107,
   "metadata": {},
   "outputs": [
    {
     "data": {
      "text/plain": [
       "Model                      KNN\n",
       "Parameter              Default\n",
       "Accuracy              0.872937\n",
       "Precision             0.663055\n",
       "Recall/Sensitivity     0.84375\n",
       "F1 Score              0.742568\n",
       "AUC                   0.870111\n",
       "dtype: object"
      ]
     },
     "execution_count": 107,
     "metadata": {},
     "output_type": "execute_result"
    }
   ],
   "source": [
    "#knn metrics\n",
    "model_metric(y_test, knn_pred, knn_n_scores, 'KNN', 'Default')"
   ]
  },
  {
   "cell_type": "code",
   "execution_count": 108,
   "metadata": {},
   "outputs": [
    {
     "data": {
      "image/png": "[encoded data removed]",
      "text/plain": [
       "<Figure size 432x288 with 1 Axes>"
      ]
     },
     "metadata": {},
     "output_type": "display_data"
    }
   ],
   "source": [
    "#Default knn roc curve\n",
    "create_roc_curve(y_test, knn_pred)"
   ]
  },
  {
   "cell_type": "code",
   "execution_count": 109,
   "metadata": {},
   "outputs": [
    {
     "name": "stdout",
     "output_type": "stream",
     "text": [
      "[[8214  798]\n",
      " [ 369 1807]]\n"
     ]
    },
    {
     "data": {
      "image/png": "[encoded data removed]",
      "text/plain": [
       "<Figure size 432x288 with 2 Axes>"
      ]
     },
     "metadata": {},
     "output_type": "display_data"
    }
   ],
   "source": [
    "# GridSearchCV knn confusion matrix\n",
    "conf_matrix(knn_grid_search_cm,'GridSearchCV KNN')"
   ]
  },
  {
   "cell_type": "code",
   "execution_count": 110,
   "metadata": {},
   "outputs": [
    {
     "data": {
      "text/plain": [
       "Model                          KNN\n",
       "Parameter             GridSearchCv\n",
       "Accuracy                  0.878803\n",
       "Precision                 0.693666\n",
       "Recall/Sensitivity        0.830423\n",
       "F1 Score                  0.755909\n",
       "AUC                       0.870937\n",
       "dtype: object"
      ]
     },
     "execution_count": 110,
     "metadata": {},
     "output_type": "execute_result"
    }
   ],
   "source": [
    "# GridSearchCV knn metrics\n",
    "model_metric(y_test, knn_grid_search_pred, knn_grid_search_n_scores, 'KNN', 'GridSearchCv')"
   ]
  },
  {
   "cell_type": "code",
   "execution_count": 111,
   "metadata": {},
   "outputs": [
    {
     "data": {
      "image/png": "[encoded data removed]",
      "text/plain": [
       "<Figure size 432x288 with 1 Axes>"
      ]
     },
     "metadata": {},
     "output_type": "display_data"
    }
   ],
   "source": [
    "# GridSearchCV knn roc curve\n",
    "create_roc_curve(y_test, knn_grid_search_pred)"
   ]
  },
  {
   "cell_type": "code",
   "execution_count": 112,
   "metadata": {},
   "outputs": [
    {
     "name": "stdout",
     "output_type": "stream",
     "text": [
      "[[8187  825]\n",
      " [ 356 1820]]\n"
     ]
    },
    {
     "data": {
      "image/png": "[encoded data removed]",
      "text/plain": [
       "<Figure size 432x288 with 2 Axes>"
      ]
     },
     "metadata": {},
     "output_type": "display_data"
    }
   ],
   "source": [
    "# RandomSearchCV knn confusion matrix\n",
    "conf_matrix(knn_random_search_cm,'RandomSearchCV KNN')"
   ]
  },
  {
   "cell_type": "code",
   "execution_count": 113,
   "metadata": {},
   "outputs": [
    {
     "data": {
      "text/plain": [
       "Model                            KNN\n",
       "Parameter             RandomSearchCv\n",
       "Accuracy                    0.877226\n",
       "Precision                   0.688091\n",
       "Recall/Sensitivity          0.836397\n",
       "F1 Score                     0.75503\n",
       "AUC                         0.872426\n",
       "dtype: object"
      ]
     },
     "execution_count": 113,
     "metadata": {},
     "output_type": "execute_result"
    }
   ],
   "source": [
    "# RandomSearchCV knn metrics\n",
    "model_metric(y_test, knn_random_search_pred, knn_random_search_n_scores, 'KNN', 'RandomSearchCv')"
   ]
  },
  {
   "cell_type": "code",
   "execution_count": 114,
   "metadata": {},
   "outputs": [
    {
     "data": {
      "image/png": "[encoded data removed]",
      "text/plain": [
       "<Figure size 432x288 with 1 Axes>"
      ]
     },
     "metadata": {},
     "output_type": "display_data"
    }
   ],
   "source": [
    "# GridSearchCV Random forest roc curve\n",
    "create_roc_curve(y_test, knn_random_search_pred)"
   ]
  },
  {
   "cell_type": "markdown",
   "metadata": {},
   "source": [
    "### Decision Tree Evaluation"
   ]
  },
  {
   "cell_type": "code",
   "execution_count": 115,
   "metadata": {
    "scrolled": true
   },
   "outputs": [
    {
     "name": "stdout",
     "output_type": "stream",
     "text": [
      "[[8235  777]\n",
      " [ 380 1796]]\n"
     ]
    },
    {
     "data": {
      "image/png": "[encoded data removed]",
      "text/plain": [
       "<Figure size 432x288 with 2 Axes>"
      ]
     },
     "metadata": {},
     "output_type": "display_data"
    }
   ],
   "source": [
    "#Default tree confusion matrix\n",
    "tr_cm = metrics.confusion_matrix(y_test, tr_pred)\n",
    "conf_matrix(tr_cm ,'Decision Tree')"
   ]
  },
  {
   "cell_type": "code",
   "execution_count": 116,
   "metadata": {},
   "outputs": [
    {
     "data": {
      "text/plain": [
       "Model                 Decision Tree\n",
       "Parameter                   Default\n",
       "Accuracy                   0.884344\n",
       "Precision                  0.698018\n",
       "Recall/Sensitivity         0.825368\n",
       "F1 Score                    0.75637\n",
       "AUC                        0.869575\n",
       "dtype: object"
      ]
     },
     "execution_count": 116,
     "metadata": {},
     "output_type": "execute_result"
    }
   ],
   "source": [
    "#tree metrics\n",
    "model_metric(y_test, tr_pred, tr_n_scores, 'Decision Tree', 'Default')"
   ]
  },
  {
   "cell_type": "code",
   "execution_count": 117,
   "metadata": {},
   "outputs": [
    {
     "data": {
      "image/png": "[encoded data removed]",
      "text/plain": [
       "<Figure size 432x288 with 1 Axes>"
      ]
     },
     "metadata": {},
     "output_type": "display_data"
    }
   ],
   "source": [
    "#Default tree roc curve\n",
    "create_roc_curve(y_test, tr_pred)"
   ]
  },
  {
   "cell_type": "code",
   "execution_count": 118,
   "metadata": {},
   "outputs": [
    {
     "name": "stdout",
     "output_type": "stream",
     "text": [
      "[[8224  788]\n",
      " [ 374 1802]]\n"
     ]
    },
    {
     "data": {
      "image/png": "[encoded data removed]",
      "text/plain": [
       "<Figure size 432x288 with 2 Axes>"
      ]
     },
     "metadata": {},
     "output_type": "display_data"
    }
   ],
   "source": [
    "# GridSearchCV tr confusion matrix\n",
    "conf_matrix(tr_grid_search_cm,'GridSearchCV Decision Tree')"
   ]
  },
  {
   "cell_type": "code",
   "execution_count": 119,
   "metadata": {},
   "outputs": [
    {
     "data": {
      "text/plain": [
       "Model                 Decision Tree\n",
       "Parameter              GridSearchCv\n",
       "Accuracy                   0.883646\n",
       "Precision                  0.695753\n",
       "Recall/Sensitivity         0.828125\n",
       "F1 Score                    0.75619\n",
       "AUC                        0.870343\n",
       "dtype: object"
      ]
     },
     "execution_count": 119,
     "metadata": {},
     "output_type": "execute_result"
    }
   ],
   "source": [
    "# GridSearchCV tr metrics\n",
    "model_metric(y_test, tr_grid_search_pred, tr_grid_search_n_scores, 'Decision Tree', 'GridSearchCv')"
   ]
  },
  {
   "cell_type": "code",
   "execution_count": 120,
   "metadata": {},
   "outputs": [
    {
     "data": {
      "image/png": "[encoded data removed]",
      "text/plain": [
       "<Figure size 432x288 with 1 Axes>"
      ]
     },
     "metadata": {},
     "output_type": "display_data"
    }
   ],
   "source": [
    "# GridSearchCV tr roc curve\n",
    "create_roc_curve(y_test, tr_grid_search_pred)"
   ]
  },
  {
   "cell_type": "code",
   "execution_count": 121,
   "metadata": {},
   "outputs": [
    {
     "name": "stdout",
     "output_type": "stream",
     "text": [
      "[[8240  772]\n",
      " [ 379 1797]]\n"
     ]
    },
    {
     "data": {
      "image/png": "[encoded data removed]",
      "text/plain": [
       "<Figure size 432x288 with 2 Axes>"
      ]
     },
     "metadata": {},
     "output_type": "display_data"
    }
   ],
   "source": [
    "# RandomSearchCV tr confusion matrix\n",
    "conf_matrix(tr_random_search_cm,'RandomSearchCV Decision Tree')"
   ]
  },
  {
   "cell_type": "code",
   "execution_count": 122,
   "metadata": {},
   "outputs": [
    {
     "data": {
      "text/plain": [
       "Model                  Decision Tree\n",
       "Parameter             RandomSearchCv\n",
       "Accuracy                    0.882426\n",
       "Precision                   0.699494\n",
       "Recall/Sensitivity          0.825827\n",
       "F1 Score                    0.757429\n",
       "AUC                         0.870082\n",
       "dtype: object"
      ]
     },
     "execution_count": 122,
     "metadata": {},
     "output_type": "execute_result"
    }
   ],
   "source": [
    "# RandomSearchCV tr metrics\n",
    "model_metric(y_test, tr_random_search_pred, tr_random_search_n_scores, 'Decision Tree', 'RandomSearchCv')"
   ]
  },
  {
   "cell_type": "code",
   "execution_count": 123,
   "metadata": {},
   "outputs": [
    {
     "data": {
      "image/png": "[encoded data removed]",
      "text/plain": [
       "<Figure size 432x288 with 1 Axes>"
      ]
     },
     "metadata": {},
     "output_type": "display_data"
    }
   ],
   "source": [
    "# GridSearchCV tr roc curve\n",
    "create_roc_curve(y_test, tr_random_search_pred)"
   ]
  },
  {
   "cell_type": "markdown",
   "metadata": {},
   "source": [
    "### Gradient Boosting Evaluation"
   ]
  },
  {
   "cell_type": "code",
   "execution_count": 124,
   "metadata": {},
   "outputs": [
    {
     "name": "stdout",
     "output_type": "stream",
     "text": [
      "[[8229  783]\n",
      " [ 366 1810]]\n"
     ]
    },
    {
     "data": {
      "image/png": "[encoded data removed]",
      "text/plain": [
       "<Figure size 432x288 with 2 Axes>"
      ]
     },
     "metadata": {},
     "output_type": "display_data"
    }
   ],
   "source": [
    "grd_cm = metrics.confusion_matrix(y_test, grd_pred)\n",
    "conf_matrix(grd_cm ,'Gradient Boosting')"
   ]
  },
  {
   "cell_type": "code",
   "execution_count": 125,
   "metadata": {},
   "outputs": [
    {
     "data": {
      "text/plain": [
       "Model                 Gradient Boost\n",
       "Parameter                    Default\n",
       "Accuracy                     0.88325\n",
       "Precision                   0.698033\n",
       "Recall/Sensitivity          0.831801\n",
       "F1 Score                    0.759069\n",
       "AUC                         0.872459\n",
       "dtype: object"
      ]
     },
     "execution_count": 125,
     "metadata": {},
     "output_type": "execute_result"
    }
   ],
   "source": [
    "model_metric(y_test, grd_pred, grd_n_scores, 'Gradient Boost', 'Default')"
   ]
  },
  {
   "cell_type": "code",
   "execution_count": 126,
   "metadata": {},
   "outputs": [
    {
     "data": {
      "image/png": "[encoded data removed]",
      "text/plain": [
       "<Figure size 432x288 with 1 Axes>"
      ]
     },
     "metadata": {},
     "output_type": "display_data"
    }
   ],
   "source": [
    "create_roc_curve(y_test, grd_pred)"
   ]
  },
  {
   "cell_type": "code",
   "execution_count": 127,
   "metadata": {},
   "outputs": [
    {
     "name": "stdout",
     "output_type": "stream",
     "text": [
      "[[8224  788]\n",
      " [ 366 1810]]\n"
     ]
    },
    {
     "data": {
      "image/png": "[encoded data removed]",
      "text/plain": [
       "<Figure size 432x288 with 2 Axes>"
      ]
     },
     "metadata": {},
     "output_type": "display_data"
    }
   ],
   "source": [
    "# GridSearchCV grd confusion matrix\n",
    "conf_matrix(grd_grid_search_cm,'GridSearchCV Gradient Boost')"
   ]
  },
  {
   "cell_type": "code",
   "execution_count": 128,
   "metadata": {},
   "outputs": [
    {
     "data": {
      "text/plain": [
       "Model                 Gradient Boost\n",
       "Parameter               GridSearchCv\n",
       "Accuracy                    0.882941\n",
       "Precision                    0.69669\n",
       "Recall/Sensitivity          0.831801\n",
       "F1 Score                    0.758274\n",
       "AUC                         0.872181\n",
       "dtype: object"
      ]
     },
     "execution_count": 128,
     "metadata": {},
     "output_type": "execute_result"
    }
   ],
   "source": [
    "# GridSearchCV grd metrics\n",
    "model_metric(y_test, grd_grid_search_pred, grd_grid_search_n_scores, 'Gradient Boost', 'GridSearchCv')"
   ]
  },
  {
   "cell_type": "code",
   "execution_count": 129,
   "metadata": {},
   "outputs": [
    {
     "data": {
      "image/png": "[encoded data removed]",
      "text/plain": [
       "<Figure size 432x288 with 1 Axes>"
      ]
     },
     "metadata": {},
     "output_type": "display_data"
    }
   ],
   "source": [
    "# GridSearchCV grd roc curve\n",
    "create_roc_curve(y_test, grd_grid_search_pred)"
   ]
  },
  {
   "cell_type": "code",
   "execution_count": 130,
   "metadata": {},
   "outputs": [
    {
     "name": "stdout",
     "output_type": "stream",
     "text": [
      "[[8224  788]\n",
      " [ 366 1810]]\n"
     ]
    },
    {
     "data": {
      "image/png": "[encoded data removed]",
      "text/plain": [
       "<Figure size 432x288 with 2 Axes>"
      ]
     },
     "metadata": {},
     "output_type": "display_data"
    }
   ],
   "source": [
    "# RandomSearchCV grd confusion matrix\n",
    "conf_matrix(grd_random_search_cm,'RandomSearchCV Gradient Boost')"
   ]
  },
  {
   "cell_type": "code",
   "execution_count": 131,
   "metadata": {},
   "outputs": [
    {
     "data": {
      "text/plain": [
       "Model                 Gradient Boost\n",
       "Parameter             RandomSearchCv\n",
       "Accuracy                    0.882941\n",
       "Precision                    0.69669\n",
       "Recall/Sensitivity          0.831801\n",
       "F1 Score                    0.758274\n",
       "AUC                         0.872181\n",
       "dtype: object"
      ]
     },
     "execution_count": 131,
     "metadata": {},
     "output_type": "execute_result"
    }
   ],
   "source": [
    "# RandomSearchCV grd metrics\n",
    "model_metric(y_test, grd_random_search_pred, grd_random_search_n_scores, 'Gradient Boost', 'RandomSearchCv')"
   ]
  },
  {
   "cell_type": "code",
   "execution_count": 132,
   "metadata": {},
   "outputs": [
    {
     "data": {
      "image/png": "[encoded data removed]",
      "text/plain": [
       "<Figure size 432x288 with 1 Axes>"
      ]
     },
     "metadata": {},
     "output_type": "display_data"
    }
   ],
   "source": [
    "# GridSearchCV grd roc curve\n",
    "create_roc_curve(y_test, grd_random_search_pred)"
   ]
  },
  {
   "cell_type": "markdown",
   "metadata": {},
   "source": [
    "### SVM Evaluation"
   ]
  },
  {
   "cell_type": "code",
   "execution_count": 133,
   "metadata": {},
   "outputs": [
    {
     "name": "stdout",
     "output_type": "stream",
     "text": [
      "[[8211  801]\n",
      " [ 361 1815]]\n"
     ]
    },
    {
     "data": {
      "image/png": "[encoded data removed]",
      "text/plain": [
       "<Figure size 432x288 with 2 Axes>"
      ]
     },
     "metadata": {},
     "output_type": "display_data"
    }
   ],
   "source": [
    "sv_cm = metrics.confusion_matrix(y_test, sv_pred)\n",
    "conf_matrix(sv_cm ,'Support Vector')"
   ]
  },
  {
   "cell_type": "code",
   "execution_count": 134,
   "metadata": {},
   "outputs": [
    {
     "data": {
      "text/plain": [
       "Model                 Support Vector Machine\n",
       "Parameter                            Default\n",
       "Accuracy                            0.879326\n",
       "Precision                           0.693807\n",
       "Recall/Sensitivity                  0.834099\n",
       "F1 Score                            0.757513\n",
       "AUC                                 0.872609\n",
       "dtype: object"
      ]
     },
     "execution_count": 134,
     "metadata": {},
     "output_type": "execute_result"
    }
   ],
   "source": [
    "model_metric(y_test, sv_pred, sv_n_scores, 'Support Vector Machine', 'Default')"
   ]
  },
  {
   "cell_type": "code",
   "execution_count": 135,
   "metadata": {},
   "outputs": [
    {
     "data": {
      "image/png": "[encoded data removed]",
      "text/plain": [
       "<Figure size 432x288 with 1 Axes>"
      ]
     },
     "metadata": {},
     "output_type": "display_data"
    }
   ],
   "source": [
    "create_roc_curve(y_test, sv_pred)"
   ]
  },
  {
   "cell_type": "code",
   "execution_count": 136,
   "metadata": {},
   "outputs": [
    {
     "name": "stdout",
     "output_type": "stream",
     "text": [
      "[[8211  801]\n",
      " [ 361 1815]]\n"
     ]
    },
    {
     "data": {
      "image/png": "[encoded data removed]",
      "text/plain": [
       "<Figure size 432x288 with 2 Axes>"
      ]
     },
     "metadata": {},
     "output_type": "display_data"
    }
   ],
   "source": [
    "# GridSearchCV sv confusion matrix\n",
    "conf_matrix(sv_grid_search_cm,'GridSearchCV Support Vector Machine')"
   ]
  },
  {
   "cell_type": "code",
   "execution_count": 137,
   "metadata": {},
   "outputs": [
    {
     "data": {
      "text/plain": [
       "Model                 Support Vector Machine\n",
       "Parameter                       GridSearchCv\n",
       "Accuracy                            0.879429\n",
       "Precision                           0.693807\n",
       "Recall/Sensitivity                  0.834099\n",
       "F1 Score                            0.757513\n",
       "AUC                                 0.872609\n",
       "dtype: object"
      ]
     },
     "execution_count": 137,
     "metadata": {},
     "output_type": "execute_result"
    }
   ],
   "source": [
    "# GridSearchCV sv metrics\n",
    "model_metric(y_test, sv_grid_search_pred, sv_grid_search_n_scores, 'Support Vector Machine', 'GridSearchCv')"
   ]
  },
  {
   "cell_type": "code",
   "execution_count": 138,
   "metadata": {},
   "outputs": [
    {
     "data": {
      "image/png": "[encoded data removed]",
      "text/plain": [
       "<Figure size 432x288 with 1 Axes>"
      ]
     },
     "metadata": {},
     "output_type": "display_data"
    }
   ],
   "source": [
    "# GridSearchCV sv roc curve\n",
    "create_roc_curve(y_test, sv_grid_search_pred)"
   ]
  },
  {
   "cell_type": "code",
   "execution_count": 139,
   "metadata": {},
   "outputs": [
    {
     "name": "stdout",
     "output_type": "stream",
     "text": [
      "[[8211  801]\n",
      " [ 361 1815]]\n"
     ]
    },
    {
     "data": {
      "image/png": "[encoded data removed]",
      "text/plain": [
       "<Figure size 432x288 with 2 Axes>"
      ]
     },
     "metadata": {},
     "output_type": "display_data"
    }
   ],
   "source": [
    "# RandomSearchCV sv confusion matrix\n",
    "conf_matrix(sv_random_search_cm,'RandomSearchCV Support Vector Machine')"
   ]
  },
  {
   "cell_type": "code",
   "execution_count": 140,
   "metadata": {},
   "outputs": [
    {
     "data": {
      "text/plain": [
       "Model                 Support Vector Machine\n",
       "Parameter                     RandomSearchCv\n",
       "Accuracy                            0.879326\n",
       "Precision                           0.693807\n",
       "Recall/Sensitivity                  0.834099\n",
       "F1 Score                            0.757513\n",
       "AUC                                 0.872609\n",
       "dtype: object"
      ]
     },
     "execution_count": 140,
     "metadata": {},
     "output_type": "execute_result"
    }
   ],
   "source": [
    "# RandomSearchCV sv metrics\n",
    "model_metric(y_test, sv_random_search_pred, sv_random_search_n_scores, 'Support Vector Machine', 'RandomSearchCv')"
   ]
  },
  {
   "cell_type": "code",
   "execution_count": 141,
   "metadata": {},
   "outputs": [
    {
     "data": {
      "image/png": "[encoded data removed]",
      "text/plain": [
       "<Figure size 432x288 with 1 Axes>"
      ]
     },
     "metadata": {},
     "output_type": "display_data"
    }
   ],
   "source": [
    "# GridSearchCV sv roc curve\n",
    "create_roc_curve(y_test, sv_random_search_pred)"
   ]
  },
  {
   "cell_type": "markdown",
   "metadata": {},
   "source": [
    "## VI. Export Results\n",
    "\n",
    "**a) Export Model Results (Paramters and Performances)**<br>\n",
    "*hint: create a dataframe with all the perfomances and export it to a file*\n"
   ]
  },
  {
   "cell_type": "code",
   "execution_count": 142,
   "metadata": {},
   "outputs": [],
   "source": [
    "metric_df = pd.DataFrame(list_of_metrics)"
   ]
  },
  {
   "cell_type": "code",
   "execution_count": 143,
   "metadata": {},
   "outputs": [
    {
     "data": {
      "text/html": [
       "<div>\n",
       "<style scoped>\n",
       "    .dataframe tbody tr th:only-of-type {\n",
       "        vertical-align: middle;\n",
       "    }\n",
       "\n",
       "    .dataframe tbody tr th {\n",
       "        vertical-align: top;\n",
       "    }\n",
       "\n",
       "    .dataframe thead th {\n",
       "        text-align: right;\n",
       "    }\n",
       "</style>\n",
       "<table border=\"1\" class=\"dataframe\">\n",
       "  <thead>\n",
       "    <tr style=\"text-align: right;\">\n",
       "      <th></th>\n",
       "      <th>Model</th>\n",
       "      <th>Parameter</th>\n",
       "      <th>Accuracy</th>\n",
       "      <th>Precision</th>\n",
       "      <th>Recall/Sensitivity</th>\n",
       "      <th>F1 Score</th>\n",
       "      <th>AUC</th>\n",
       "    </tr>\n",
       "  </thead>\n",
       "  <tbody>\n",
       "    <tr>\n",
       "      <th>0</th>\n",
       "      <td>Random Forest</td>\n",
       "      <td>Default</td>\n",
       "      <td>0.884241</td>\n",
       "      <td>0.697674</td>\n",
       "      <td>0.827206</td>\n",
       "      <td>0.756939</td>\n",
       "      <td>0.870327</td>\n",
       "    </tr>\n",
       "    <tr>\n",
       "      <th>1</th>\n",
       "      <td>Random Forest</td>\n",
       "      <td>GridSearchCv</td>\n",
       "      <td>0.880262</td>\n",
       "      <td>0.711683</td>\n",
       "      <td>0.825827</td>\n",
       "      <td>0.764518</td>\n",
       "      <td>0.872523</td>\n",
       "    </tr>\n",
       "    <tr>\n",
       "      <th>2</th>\n",
       "      <td>Random Forest</td>\n",
       "      <td>RandomSearchCv</td>\n",
       "      <td>0.880595</td>\n",
       "      <td>0.701748</td>\n",
       "      <td>0.830423</td>\n",
       "      <td>0.760682</td>\n",
       "      <td>0.872602</td>\n",
       "    </tr>\n",
       "    <tr>\n",
       "      <th>3</th>\n",
       "      <td>KNN</td>\n",
       "      <td>Default</td>\n",
       "      <td>0.872937</td>\n",
       "      <td>0.663055</td>\n",
       "      <td>0.843750</td>\n",
       "      <td>0.742568</td>\n",
       "      <td>0.870111</td>\n",
       "    </tr>\n",
       "    <tr>\n",
       "      <th>4</th>\n",
       "      <td>KNN</td>\n",
       "      <td>GridSearchCv</td>\n",
       "      <td>0.878803</td>\n",
       "      <td>0.693666</td>\n",
       "      <td>0.830423</td>\n",
       "      <td>0.755909</td>\n",
       "      <td>0.870937</td>\n",
       "    </tr>\n",
       "    <tr>\n",
       "      <th>5</th>\n",
       "      <td>KNN</td>\n",
       "      <td>RandomSearchCv</td>\n",
       "      <td>0.877226</td>\n",
       "      <td>0.688091</td>\n",
       "      <td>0.836397</td>\n",
       "      <td>0.755030</td>\n",
       "      <td>0.872426</td>\n",
       "    </tr>\n",
       "    <tr>\n",
       "      <th>6</th>\n",
       "      <td>Decision Tree</td>\n",
       "      <td>Default</td>\n",
       "      <td>0.884344</td>\n",
       "      <td>0.698018</td>\n",
       "      <td>0.825368</td>\n",
       "      <td>0.756370</td>\n",
       "      <td>0.869575</td>\n",
       "    </tr>\n",
       "    <tr>\n",
       "      <th>7</th>\n",
       "      <td>Decision Tree</td>\n",
       "      <td>GridSearchCv</td>\n",
       "      <td>0.883646</td>\n",
       "      <td>0.695753</td>\n",
       "      <td>0.828125</td>\n",
       "      <td>0.756190</td>\n",
       "      <td>0.870343</td>\n",
       "    </tr>\n",
       "    <tr>\n",
       "      <th>8</th>\n",
       "      <td>Decision Tree</td>\n",
       "      <td>RandomSearchCv</td>\n",
       "      <td>0.882426</td>\n",
       "      <td>0.699494</td>\n",
       "      <td>0.825827</td>\n",
       "      <td>0.757429</td>\n",
       "      <td>0.870082</td>\n",
       "    </tr>\n",
       "    <tr>\n",
       "      <th>9</th>\n",
       "      <td>Gradient Boost</td>\n",
       "      <td>Default</td>\n",
       "      <td>0.883250</td>\n",
       "      <td>0.698033</td>\n",
       "      <td>0.831801</td>\n",
       "      <td>0.759069</td>\n",
       "      <td>0.872459</td>\n",
       "    </tr>\n",
       "    <tr>\n",
       "      <th>10</th>\n",
       "      <td>Gradient Boost</td>\n",
       "      <td>GridSearchCv</td>\n",
       "      <td>0.882941</td>\n",
       "      <td>0.696690</td>\n",
       "      <td>0.831801</td>\n",
       "      <td>0.758274</td>\n",
       "      <td>0.872181</td>\n",
       "    </tr>\n",
       "    <tr>\n",
       "      <th>11</th>\n",
       "      <td>Gradient Boost</td>\n",
       "      <td>RandomSearchCv</td>\n",
       "      <td>0.882941</td>\n",
       "      <td>0.696690</td>\n",
       "      <td>0.831801</td>\n",
       "      <td>0.758274</td>\n",
       "      <td>0.872181</td>\n",
       "    </tr>\n",
       "    <tr>\n",
       "      <th>12</th>\n",
       "      <td>Support Vector Machine</td>\n",
       "      <td>Default</td>\n",
       "      <td>0.879326</td>\n",
       "      <td>0.693807</td>\n",
       "      <td>0.834099</td>\n",
       "      <td>0.757513</td>\n",
       "      <td>0.872609</td>\n",
       "    </tr>\n",
       "    <tr>\n",
       "      <th>13</th>\n",
       "      <td>Support Vector Machine</td>\n",
       "      <td>GridSearchCv</td>\n",
       "      <td>0.879429</td>\n",
       "      <td>0.693807</td>\n",
       "      <td>0.834099</td>\n",
       "      <td>0.757513</td>\n",
       "      <td>0.872609</td>\n",
       "    </tr>\n",
       "    <tr>\n",
       "      <th>14</th>\n",
       "      <td>Support Vector Machine</td>\n",
       "      <td>RandomSearchCv</td>\n",
       "      <td>0.879326</td>\n",
       "      <td>0.693807</td>\n",
       "      <td>0.834099</td>\n",
       "      <td>0.757513</td>\n",
       "      <td>0.872609</td>\n",
       "    </tr>\n",
       "  </tbody>\n",
       "</table>\n",
       "</div>"
      ],
      "text/plain": [
       "                     Model       Parameter  Accuracy  Precision  \\\n",
       "0            Random Forest         Default  0.884241   0.697674   \n",
       "1            Random Forest    GridSearchCv  0.880262   0.711683   \n",
       "2            Random Forest  RandomSearchCv  0.880595   0.701748   \n",
       "3                      KNN         Default  0.872937   0.663055   \n",
       "4                      KNN    GridSearchCv  0.878803   0.693666   \n",
       "5                      KNN  RandomSearchCv  0.877226   0.688091   \n",
       "6            Decision Tree         Default  0.884344   0.698018   \n",
       "7            Decision Tree    GridSearchCv  0.883646   0.695753   \n",
       "8            Decision Tree  RandomSearchCv  0.882426   0.699494   \n",
       "9           Gradient Boost         Default  0.883250   0.698033   \n",
       "10          Gradient Boost    GridSearchCv  0.882941   0.696690   \n",
       "11          Gradient Boost  RandomSearchCv  0.882941   0.696690   \n",
       "12  Support Vector Machine         Default  0.879326   0.693807   \n",
       "13  Support Vector Machine    GridSearchCv  0.879429   0.693807   \n",
       "14  Support Vector Machine  RandomSearchCv  0.879326   0.693807   \n",
       "\n",
       "    Recall/Sensitivity  F1 Score       AUC  \n",
       "0             0.827206  0.756939  0.870327  \n",
       "1             0.825827  0.764518  0.872523  \n",
       "2             0.830423  0.760682  0.872602  \n",
       "3             0.843750  0.742568  0.870111  \n",
       "4             0.830423  0.755909  0.870937  \n",
       "5             0.836397  0.755030  0.872426  \n",
       "6             0.825368  0.756370  0.869575  \n",
       "7             0.828125  0.756190  0.870343  \n",
       "8             0.825827  0.757429  0.870082  \n",
       "9             0.831801  0.759069  0.872459  \n",
       "10            0.831801  0.758274  0.872181  \n",
       "11            0.831801  0.758274  0.872181  \n",
       "12            0.834099  0.757513  0.872609  \n",
       "13            0.834099  0.757513  0.872609  \n",
       "14            0.834099  0.757513  0.872609  "
      ]
     },
     "execution_count": 143,
     "metadata": {},
     "output_type": "execute_result"
    }
   ],
   "source": [
    "metric_df"
   ]
  },
  {
   "cell_type": "code",
   "execution_count": 145,
   "metadata": {},
   "outputs": [],
   "source": [
    "metric_df.to_excel(\"metrics_df.xlsx\")"
   ]
  },
  {
   "cell_type": "markdown",
   "metadata": {},
   "source": [
    "#### ######### End  \n"
   ]
  },
  {
   "cell_type": "code",
   "execution_count": null,
   "metadata": {},
   "outputs": [],
   "source": []
  }
 ],
 "metadata": {
  "kernelspec": {
   "display_name": "Python 3",
   "language": "python",
   "name": "python3"
  },
  "language_info": {
   "codemirror_mode": {
    "name": "ipython",
    "version": 3
   },
   "file_extension": ".py",
   "mimetype": "text/x-python",
   "name": "python",
   "nbconvert_exporter": "python",
   "pygments_lexer": "ipython3",
   "version": "3.8.8"
  },
  "toc": {
   "base_numbering": 1,
   "nav_menu": {},
   "number_sections": false,
   "sideBar": false,
   "skip_h1_title": false,
   "title_cell": "Table of Contents",
   "title_sidebar": "Contents",
   "toc_cell": false,
   "toc_position": {},
   "toc_section_display": false,
   "toc_window_display": false
  }
 },
 "nbformat": 4,
 "nbformat_minor": 4
}
